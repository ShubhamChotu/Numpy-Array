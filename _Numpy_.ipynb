{
  "nbformat": 4,
  "nbformat_minor": 0,
  "metadata": {
    "colab": {
      "provenance": [],
      "toc_visible": true
    },
    "kernelspec": {
      "name": "python3",
      "display_name": "Python 3"
    },
    "language_info": {
      "name": "python"
    }
  },
  "cells": [
    {
      "cell_type": "markdown",
      "source": [
        "#*** 27. Numpy***\n",
        "\n",
        "Numpy is the fundamental package for scientific computing in python.it is a python library that provides a multidimensional array object,various derived objects(such as masked arrays and matrices),and an assortment of routines for fast operations on arrays,including mathematical,logical,shape manipluation,sorting,selecting,I/O,discrete fourier transforms,basic liner algebra,basic statical operations,random simulation and much more.\n",
        "\n",
        "* At the core of the Numpy package,is the ndarray object.This encapsulates n-dimensional arrays of homogeneous datatypes."
      ],
      "metadata": {
        "id": "XDRDmS8wYVzP"
      }
    },
    {
      "cell_type": "markdown",
      "source": [
        "## Numpy Arrays Vs Python Sequence\n",
        "* Numpy arrays have a fixed size at creation,unlike python lists(which can grow dynamically).Changing the size as an ndarray will create a new array and delit the orginal.   \n",
        "* The elements in a Numpy array are all required to be of the same datatype,and thus will be the same  size in memory.  \n",
        "* Numpy arrays facilitate advanced mathematical and other types of operations on large numbers of data.Typically,such operations are executed more efficiently and with less code than is possible using python's built-in sequence.   \n",
        "* A growing plethora of scientific and mathematical python-based packages are using Numpy arrays;though these typically support python-sequence input,they convert such input to numpy arrays prior to processing,and they often output Numpy array."
      ],
      "metadata": {
        "id": "xlhY3Yo_bVSU"
      }
    },
    {
      "cell_type": "markdown",
      "source": [
        "# Read Numpy Documentation for more inforamtion about numpy."
      ],
      "metadata": {
        "id": "KMlaeFZqyVP-"
      }
    },
    {
      "cell_type": "markdown",
      "source": [
        "### Creating Numpy Arrays"
      ],
      "metadata": {
        "id": "iTpVpEj_fJI8"
      }
    },
    {
      "cell_type": "code",
      "source": [
        "# Example for 1D array\n",
        "\n",
        "import numpy as np  # np is a alias name\n",
        "\n",
        "num=np.array([1,2,3])\n",
        "print(num)\n",
        "print(type(num))"
      ],
      "metadata": {
        "colab": {
          "base_uri": "https://localhost:8080/"
        },
        "id": "KpCA5gQXwnq-",
        "outputId": "d78f312e-921c-45df-8b68-4c526ddf8e19"
      },
      "execution_count": null,
      "outputs": [
        {
          "output_type": "stream",
          "name": "stdout",
          "text": [
            "[1 2 3]\n",
            "<class 'numpy.ndarray'>\n"
          ]
        }
      ]
    },
    {
      "cell_type": "code",
      "source": [
        "# Example for 2D or 3D array\n",
        "\n",
        "# 2D array\n",
        "import numpy as np\n",
        "\n",
        "a=np.array([[1,2,3],[4,5,6]])\n",
        "print(a)\n",
        "\n",
        "\n",
        "# 3D array\n",
        "b=np.array([[[1,2],[3,4]],[[5,6],[7,8]]])\n",
        "print(b)"
      ],
      "metadata": {
        "colab": {
          "base_uri": "https://localhost:8080/"
        },
        "id": "3j_ILYgOxAdW",
        "outputId": "aae2741c-20de-47e0-f144-5fdd4a54b07c"
      },
      "execution_count": null,
      "outputs": [
        {
          "output_type": "stream",
          "name": "stdout",
          "text": [
            "[[1 2 3]\n",
            " [4 5 6]]\n",
            "[[[1 2]\n",
            "  [3 4]]\n",
            "\n",
            " [[5 6]\n",
            "  [7 8]]]\n"
          ]
        }
      ]
    },
    {
      "cell_type": "code",
      "source": [
        "# dtype\n",
        "\n",
        "import numpy as np\n",
        "num=np.array([1,2,3],dtype=float)   # can change the datatype\n",
        "print(num)"
      ],
      "metadata": {
        "colab": {
          "base_uri": "https://localhost:8080/"
        },
        "id": "UBdEXqgrgAET",
        "outputId": "eaac7ec0-99c9-4e93-b2ef-2b4664503f0a"
      },
      "execution_count": null,
      "outputs": [
        {
          "output_type": "stream",
          "name": "stdout",
          "text": [
            "[1. 2. 3.]\n"
          ]
        }
      ]
    },
    {
      "cell_type": "code",
      "source": [
        "# np.arange\n",
        "\n",
        "import numpy as np\n",
        "No_of_Range=np.arange(1,11)  # same work as range function\n",
        "print(No_of_Range)"
      ],
      "metadata": {
        "colab": {
          "base_uri": "https://localhost:8080/"
        },
        "id": "R1m1ccEGgAHL",
        "outputId": "8b4376e5-7223-4e78-c0b0-1662928a707d"
      },
      "execution_count": null,
      "outputs": [
        {
          "output_type": "stream",
          "name": "stdout",
          "text": [
            "[ 1  2  3  4  5  6  7  8  9 10]\n"
          ]
        }
      ]
    },
    {
      "cell_type": "code",
      "source": [
        "# with reshape\n",
        "\n",
        "import numpy as np\n",
        "Reshape=np.arange(1,11).reshape(2,5)  # 1st (-) rows and 2nd (|) columns\n",
        "print(Reshape)"
      ],
      "metadata": {
        "colab": {
          "base_uri": "https://localhost:8080/"
        },
        "id": "Vs_iKhZLil5O",
        "outputId": "6b1f42d6-62f4-44fe-d816-465b134c3bfb"
      },
      "execution_count": null,
      "outputs": [
        {
          "output_type": "stream",
          "name": "stdout",
          "text": [
            "[[ 1  2  3  4  5]\n",
            " [ 6  7  8  9 10]]\n"
          ]
        }
      ]
    },
    {
      "cell_type": "code",
      "source": [
        "# Ones and zeros\n",
        "\n",
        "import numpy as np\n",
        "\n",
        "# ones\n",
        "Ones_matrix=np.ones((3,3))\n",
        "print(Ones_matrix)\n",
        "\n",
        "# zeros\n",
        "Zeros_matrix=np.zeros((3,3))\n",
        "print(Zeros_matrix)"
      ],
      "metadata": {
        "colab": {
          "base_uri": "https://localhost:8080/"
        },
        "id": "7aGwFFErgAKU",
        "outputId": "7d976512-792b-4f74-a7fb-a3169bac8a84"
      },
      "execution_count": null,
      "outputs": [
        {
          "output_type": "stream",
          "name": "stdout",
          "text": [
            "[[1. 1. 1.]\n",
            " [1. 1. 1.]\n",
            " [1. 1. 1.]]\n",
            "[[0. 0. 0.]\n",
            " [0. 0. 0.]\n",
            " [0. 0. 0.]]\n"
          ]
        }
      ]
    },
    {
      "cell_type": "code",
      "source": [
        "# random\n",
        "\n",
        "import numpy as np\n",
        "R_Values=np.random.random((3,4))  # return random values\n",
        "print(R_Values)\n"
      ],
      "metadata": {
        "colab": {
          "base_uri": "https://localhost:8080/"
        },
        "id": "r3iVVgrpgAMd",
        "outputId": "38eea3e8-44a5-4758-f7e0-020082a1c6d7"
      },
      "execution_count": null,
      "outputs": [
        {
          "output_type": "stream",
          "name": "stdout",
          "text": [
            "[[0.75218135 0.41778573 0.36862283 0.55092944]\n",
            " [0.6508493  0.52811677 0.76990829 0.71759465]\n",
            " [0.4620018  0.96958023 0.78773028 0.3322201 ]]\n"
          ]
        }
      ]
    },
    {
      "cell_type": "code",
      "source": [
        "# linspace\n",
        "\n",
        "import numpy as np\n",
        "a=np.linspace(1,100,10)   # 1 is starting range 100 is ending range and 10 is no. of elements b/w 1 to 100\n",
        "print(a)\n"
      ],
      "metadata": {
        "colab": {
          "base_uri": "https://localhost:8080/"
        },
        "id": "M83YoJiIgAP7",
        "outputId": "70c8d2ba-90bc-49ec-f3a2-1da2743af19b"
      },
      "execution_count": null,
      "outputs": [
        {
          "output_type": "stream",
          "name": "stdout",
          "text": [
            "[  1.  12.  23.  34.  45.  56.  67.  78.  89. 100.]\n"
          ]
        }
      ]
    },
    {
      "cell_type": "code",
      "source": [
        "# identity\n",
        "\n",
        "import numpy as np\n",
        "Matrix=np.identity(3)\n",
        "print(Matrix)"
      ],
      "metadata": {
        "colab": {
          "base_uri": "https://localhost:8080/"
        },
        "id": "CtD6aN_iR_IN",
        "outputId": "03d00bfd-aae3-4b61-c5f6-18fafaa09e8a"
      },
      "execution_count": null,
      "outputs": [
        {
          "output_type": "stream",
          "name": "stdout",
          "text": [
            "[[1. 0. 0.]\n",
            " [0. 1. 0.]\n",
            " [0. 0. 1.]]\n"
          ]
        }
      ]
    },
    {
      "cell_type": "markdown",
      "source": [
        "## Array Attributes"
      ],
      "metadata": {
        "id": "T3_DZ_qyTHz7"
      }
    },
    {
      "cell_type": "code",
      "source": [
        "# ndim --> Number of dimension\n",
        "\n",
        "import numpy as np\n",
        "num=np.array([[1,2,3],[10,20,30]])\n",
        "print(num.ndim)"
      ],
      "metadata": {
        "colab": {
          "base_uri": "https://localhost:8080/"
        },
        "id": "_JSl45HBSzhg",
        "outputId": "22aa82b3-f860-4594-8c72-9cdf15124a16"
      },
      "execution_count": null,
      "outputs": [
        {
          "output_type": "execute_result",
          "data": {
            "text/plain": [
              "2"
            ]
          },
          "metadata": {},
          "execution_count": 7
        }
      ]
    },
    {
      "cell_type": "code",
      "source": [
        "# shape --> tell about no. of rows and no. of columns\n",
        "\n",
        "import numpy as np\n",
        "num=np.array([[89,58,26,39,12],[79,82,34,57,19]])\n",
        "print(num.shape)   # 1st no. of rows and then 2nd no. of columns"
      ],
      "metadata": {
        "colab": {
          "base_uri": "https://localhost:8080/"
        },
        "id": "JTtpOrOCU_aY",
        "outputId": "bbd96573-ed41-40ec-dd75-a5b068bef9d0"
      },
      "execution_count": null,
      "outputs": [
        {
          "output_type": "stream",
          "name": "stdout",
          "text": [
            "(2, 5)\n"
          ]
        }
      ]
    },
    {
      "cell_type": "code",
      "source": [
        "# size --> no. of items\n",
        "\n",
        "import numpy as np\n",
        "num1=np.array([[[10,20,30],[11,22,33],[12,24,36]]])\n",
        "print(num1.size)"
      ],
      "metadata": {
        "colab": {
          "base_uri": "https://localhost:8080/"
        },
        "id": "XUm88aIMWE74",
        "outputId": "324425dd-0620-4968-a301-ccfad339b636"
      },
      "execution_count": null,
      "outputs": [
        {
          "output_type": "stream",
          "name": "stdout",
          "text": [
            "9\n"
          ]
        }
      ]
    },
    {
      "cell_type": "code",
      "source": [
        "# itemsize --> memory consumption\n",
        "\n",
        "import numpy as np\n",
        "num1=np.array([15.,30.,45.,60.,75.])\n",
        "print(num1.itemsize)   # 8 is the bytes these items are covering"
      ],
      "metadata": {
        "colab": {
          "base_uri": "https://localhost:8080/"
        },
        "id": "P1APTlTYXCB4",
        "outputId": "0e55c4cd-0451-42f4-acef-e0e837beb44d"
      },
      "execution_count": null,
      "outputs": [
        {
          "output_type": "stream",
          "name": "stdout",
          "text": [
            "8\n"
          ]
        }
      ]
    },
    {
      "cell_type": "code",
      "source": [
        "# dtype --> type of elements and memory consumption\n",
        "\n",
        "# num and num1 variables in upper cells\n",
        "\n",
        "print(num.dtype)    # num has integer values\n",
        "print(num1.dtype)   # num1 has float values"
      ],
      "metadata": {
        "colab": {
          "base_uri": "https://localhost:8080/"
        },
        "id": "BP5mM0wyX8J1",
        "outputId": "72905514-5ac5-4211-8613-7a0865d388c6"
      },
      "execution_count": null,
      "outputs": [
        {
          "output_type": "stream",
          "name": "stdout",
          "text": [
            "int64\n",
            "float64\n"
          ]
        }
      ]
    },
    {
      "cell_type": "markdown",
      "source": [
        "## Changing datatype"
      ],
      "metadata": {
        "id": "wos3kmlLaET8"
      }
    },
    {
      "cell_type": "code",
      "source": [
        "# astype  --> change the datatype\n",
        "\n",
        "import numpy as np\n",
        "age=np.array([21.4,63.9,95.3,25.7])\n",
        "print(age.astype(np.int32))"
      ],
      "metadata": {
        "id": "hkPiOztQX8NQ",
        "colab": {
          "base_uri": "https://localhost:8080/"
        },
        "outputId": "2a8fe020-a80f-4e02-ea96-37a197c4a2f0"
      },
      "execution_count": null,
      "outputs": [
        {
          "output_type": "stream",
          "name": "stdout",
          "text": [
            "[21 63 95 25]\n"
          ]
        }
      ]
    },
    {
      "cell_type": "markdown",
      "source": [
        "## Array Operations\n"
      ],
      "metadata": {
        "id": "O-1gGtRBi7Oe"
      }
    },
    {
      "cell_type": "code",
      "source": [
        "# These arrays for Scalar Operattions\n",
        "\n",
        "import numpy as np\n",
        "sca1=np.arange(20).reshape(5,4)\n"
      ],
      "metadata": {
        "id": "njpKmPDMaJpr"
      },
      "execution_count": null,
      "outputs": []
    },
    {
      "cell_type": "markdown",
      "source": [
        "### Scalar Operations\n",
        "\n",
        "* When we run operations b/w array and numbers/scalar is called Scalar Operations."
      ],
      "metadata": {
        "id": "GQIaQoCmkrVK"
      }
    },
    {
      "cell_type": "code",
      "source": [
        "# Arithmetic Operations ( +,-,*,/,**,// )\n",
        "\n",
        "print(\"Addition\")\n",
        "print(sca1 + 2)    # Addition\n",
        "\n",
        "print(\"Substraction\")\n",
        "print(sca1 - 3)    # Substraction\n",
        "\n",
        "print(\"Multiplication\")\n",
        "print(sca1 * 2)    # multiplication\n",
        "\n",
        "print(\"Division\")\n",
        "print(sca1 / 2)    # Division\n",
        "\n",
        "print(\"Power\")\n",
        "print(sca1 ** 2)   # Power\n",
        "\n",
        "print(\"Integer Division\")\n",
        "print(sca1 // 2)   # Integer Division"
      ],
      "metadata": {
        "id": "84m18YBfaJus",
        "colab": {
          "base_uri": "https://localhost:8080/"
        },
        "outputId": "4daff36a-2167-46b7-cfe4-7e103167e3ce"
      },
      "execution_count": null,
      "outputs": [
        {
          "output_type": "stream",
          "name": "stdout",
          "text": [
            "Addition\n",
            "[[20 22 24 26]\n",
            " [28 30 32 34]\n",
            " [36 38 40 42]\n",
            " [44 46 48 50]\n",
            " [52 54 56 58]]\n",
            "Substraction\n",
            "[[-3 -2 -1  0]\n",
            " [ 1  2  3  4]\n",
            " [ 5  6  7  8]\n",
            " [ 9 10 11 12]\n",
            " [13 14 15 16]]\n",
            "Multiplication\n",
            "[[ 0  2  4  6]\n",
            " [ 8 10 12 14]\n",
            " [16 18 20 22]\n",
            " [24 26 28 30]\n",
            " [32 34 36 38]]\n",
            "Division\n",
            "[[0.  0.5 1.  1.5]\n",
            " [2.  2.5 3.  3.5]\n",
            " [4.  4.5 5.  5.5]\n",
            " [6.  6.5 7.  7.5]\n",
            " [8.  8.5 9.  9.5]]\n",
            "Power\n",
            "[[  0   1   4   9]\n",
            " [ 16  25  36  49]\n",
            " [ 64  81 100 121]\n",
            " [144 169 196 225]\n",
            " [256 289 324 361]]\n",
            "Integer Division\n",
            "[[0 0 1 1]\n",
            " [2 2 3 3]\n",
            " [4 4 5 5]\n",
            " [6 6 7 7]\n",
            " [8 8 9 9]]\n"
          ]
        }
      ]
    },
    {
      "cell_type": "code",
      "source": [
        "# Relational Operation  ( >,>=,<,<=,==,!= )\n",
        "\n",
        "print(\"Greater than\")\n",
        "print(sca1  > 10)   # Greater than\n",
        "\n",
        "print(\"Greater than Equal to\")\n",
        "print(sca1  >= 7)   # Greater than equal to\n",
        "\n",
        "print(\"Less than\")\n",
        "print(sca1  < 9)    # Less than\n",
        "\n",
        "print(\"Less than Equal to\")\n",
        "print(sca1  <= 9)   # Less than equal to\n",
        "\n",
        "print(\"Double equal to\")\n",
        "print(sca1  == 13)  # Double equal to\n",
        "\n",
        "print(\"Not Equal to\")\n",
        "print(sca1  != 15)  # Not equal to"
      ],
      "metadata": {
        "id": "P7Y6mXECX8Qx",
        "colab": {
          "base_uri": "https://localhost:8080/"
        },
        "outputId": "6f84374a-07df-489c-9759-862075b9cc42"
      },
      "execution_count": null,
      "outputs": [
        {
          "output_type": "stream",
          "name": "stdout",
          "text": [
            "Greater than\n",
            "[[False False False False]\n",
            " [False False False False]\n",
            " [False False False  True]\n",
            " [ True  True  True  True]\n",
            " [ True  True  True  True]]\n",
            "Greater than Equal to\n",
            "[[False False False False]\n",
            " [False False False  True]\n",
            " [ True  True  True  True]\n",
            " [ True  True  True  True]\n",
            " [ True  True  True  True]]\n",
            "Less than\n",
            "[[ True  True  True  True]\n",
            " [ True  True  True  True]\n",
            " [ True False False False]\n",
            " [False False False False]\n",
            " [False False False False]]\n",
            "Less than Equal to\n",
            "[[ True  True  True  True]\n",
            " [ True  True  True  True]\n",
            " [ True  True False False]\n",
            " [False False False False]\n",
            " [False False False False]]\n",
            "Double equal to\n",
            "[[False False False False]\n",
            " [False False False False]\n",
            " [False False False False]\n",
            " [False  True False False]\n",
            " [False False False False]]\n",
            "Not Equal to\n",
            "[[ True  True  True  True]\n",
            " [ True  True  True  True]\n",
            " [ True  True  True  True]\n",
            " [ True  True  True False]\n",
            " [ True  True  True  True]]\n"
          ]
        }
      ]
    },
    {
      "cell_type": "markdown",
      "source": [
        "### Vector Operations\n",
        "\n",
        "* When we run operations b/w 2 or more numpy arrays is called Vector Operations.\n",
        "* If 2 or more arrays of same size then operations can be done in vector operators."
      ],
      "metadata": {
        "id": "V3oqRLOSrrSn"
      }
    },
    {
      "cell_type": "code",
      "source": [
        "# These arrays for Vector Operations\n",
        "\n",
        "import numpy as np\n",
        "vec1=np.arange(9).reshape(3,3)\n",
        "vec2=np.arange(9,18).reshape(3,3)"
      ],
      "metadata": {
        "id": "hnkCtkkUrvfw"
      },
      "execution_count": null,
      "outputs": []
    },
    {
      "cell_type": "code",
      "source": [
        "# Arithmetic Operations   ( +,-,*,/,**,// )\n",
        "\n",
        "print(\"Addition\")\n",
        "print(vec1 + vec2)   # Addition\n",
        "\n",
        "print(\"Substraction\")\n",
        "print(vec1 - vec2)   # Substraction\n",
        "\n",
        "print(\"Multiplication\")\n",
        "print(vec1 * vec2)   # Multiplication\n",
        "\n",
        "print(\"Division\")\n",
        "print(vec1 / vec2)   # Division\n",
        "\n",
        "print(\"Power\")\n",
        "print(vec1 ** vec2)  # Power\n",
        "\n",
        "print(\"Interger Division\")\n",
        "print(vec1 // vec2)  # Integer Division\n"
      ],
      "metadata": {
        "colab": {
          "base_uri": "https://localhost:8080/"
        },
        "id": "sB653lMGs8gi",
        "outputId": "2c03295c-2a4d-4c2a-bb65-50d76565d3f1"
      },
      "execution_count": null,
      "outputs": [
        {
          "output_type": "stream",
          "name": "stdout",
          "text": [
            "Addition\n",
            "[[ 9 11 13]\n",
            " [15 17 19]\n",
            " [21 23 25]]\n",
            "Substraction\n",
            "[[-9 -9 -9]\n",
            " [-9 -9 -9]\n",
            " [-9 -9 -9]]\n",
            "Multiplication\n",
            "[[  0  10  22]\n",
            " [ 36  52  70]\n",
            " [ 90 112 136]]\n",
            "Division\n",
            "[[0.         0.1        0.18181818]\n",
            " [0.25       0.30769231 0.35714286]\n",
            " [0.4        0.4375     0.47058824]]\n",
            "Power\n",
            "[[               0                1             2048]\n",
            " [          531441         67108864       6103515625]\n",
            " [    470184984576   33232930569601 2251799813685248]]\n",
            "Interger Division\n",
            "[[0 0 0]\n",
            " [0 0 0]\n",
            " [0 0 0]]\n"
          ]
        }
      ]
    },
    {
      "cell_type": "code",
      "source": [
        "# Relational operator\n",
        "\n",
        "print(\"Greater than\")\n",
        "print(vec1 > vec2)   # Greater than\n",
        "\n",
        "print(\"Greater than Equal to\")\n",
        "print(vec1 >= vec2)   # Greater than equal to\n",
        "\n",
        "print(\"Less than\")\n",
        "print(vec1 < vec2)    # Less than\n",
        "\n",
        "print(\"Less than Equal to\")\n",
        "print(vec1 <= vec2)   # Less than equal to\n",
        "\n",
        "print(\"Double equal to\")\n",
        "print(vec1 == vec2)  # Double equal to\n",
        "\n",
        "print(\"Not Equal to\")\n",
        "print(vec1 != vec2)  # Not equal to"
      ],
      "metadata": {
        "colab": {
          "base_uri": "https://localhost:8080/"
        },
        "id": "SYdSuHowwElG",
        "outputId": "b03205b0-0cb0-40b7-dc5c-d5180ceaafdb"
      },
      "execution_count": null,
      "outputs": [
        {
          "output_type": "stream",
          "name": "stdout",
          "text": [
            "Greater than\n",
            "[[False False False]\n",
            " [False False False]\n",
            " [False False False]]\n",
            "Greater than Equal to\n",
            "[[False False False]\n",
            " [False False False]\n",
            " [False False False]]\n",
            "Less than\n",
            "[[ True  True  True]\n",
            " [ True  True  True]\n",
            " [ True  True  True]]\n",
            "Less than Equal to\n",
            "[[ True  True  True]\n",
            " [ True  True  True]\n",
            " [ True  True  True]]\n",
            "Double equal to\n",
            "[[False False False]\n",
            " [False False False]\n",
            " [False False False]]\n",
            "Not Equal to\n",
            "[[ True  True  True]\n",
            " [ True  True  True]\n",
            " [ True  True  True]]\n"
          ]
        }
      ]
    },
    {
      "cell_type": "markdown",
      "source": [
        "### Array Functions"
      ],
      "metadata": {
        "id": "x3wvXKc1v55V"
      }
    },
    {
      "cell_type": "code",
      "source": [
        "# These arrays for Functions\n",
        "\n",
        "import numpy as np\n",
        "func=np.random.random((3,3))\n",
        "func*=10\n",
        "print(func)"
      ],
      "metadata": {
        "colab": {
          "base_uri": "https://localhost:8080/"
        },
        "id": "_Ma_j-iXupPv",
        "outputId": "31ac1d49-4af7-42c3-abe7-a79c38b5fa86"
      },
      "execution_count": null,
      "outputs": [
        {
          "output_type": "stream",
          "name": "stdout",
          "text": [
            "[[5.76655491 0.28209805 2.48813207]\n",
            " [1.23497487 4.45173623 5.58751918]\n",
            " [3.71541621 4.97363098 2.60758176]]\n"
          ]
        }
      ]
    },
    {
      "cell_type": "markdown",
      "source": [
        "### Min , Max , Sum , Prod"
      ],
      "metadata": {
        "id": "lSMaKNX07jXQ"
      }
    },
    {
      "cell_type": "code",
      "source": [
        "# Min/Max/Sum/Prod\n",
        "\n",
        "print(\"Minimum\")\n",
        "print(func.min())    # Min Function\n",
        "\n",
        "print(\"Maximmum\")\n",
        "print(func.max())    # Max Function\n",
        "\n",
        "print(\"Sum\")\n",
        "print(func.sum())    # Sum Function\n",
        "\n",
        "print(\"Prod\")\n",
        "print(func.prod())    # prod Function [ Multiplication of all elements ]"
      ],
      "metadata": {
        "colab": {
          "base_uri": "https://localhost:8080/"
        },
        "id": "wfKCVpQIupS_",
        "outputId": "ada18832-6750-46cc-b218-23d1bb848620"
      },
      "execution_count": null,
      "outputs": [
        {
          "output_type": "stream",
          "name": "stdout",
          "text": [
            "Minimum\n",
            "0.28209804826240803\n",
            "Maximmum\n",
            "5.7665549092630375\n",
            "Sum\n",
            "31.10764424403261\n",
            "Prod\n",
            "5991.222898144901\n"
          ]
        }
      ]
    },
    {
      "cell_type": "markdown",
      "source": [
        "### Axis function\n",
        "* Used as (axis=0/1)\n",
        "* 0 --> column ( | )\n",
        "* 1 --> row  ( - )"
      ],
      "metadata": {
        "id": "kn5_i6wE1j5c"
      }
    },
    {
      "cell_type": "code",
      "source": [
        "# Example for Axis function\n",
        "\n",
        "print(\"Column Minimum\")\n",
        "print(func.min(axis=0))   # minimum values of all columns\n",
        "\n",
        "print(\"Row Maximum\")\n",
        "print(func.max(axis=1))   # maximum values of all rows\n",
        "\n",
        "print(\"Column Sum\")\n",
        "print(func.sum(axis=0))   # Sum of all columns\n",
        "\n",
        "print(\"Row Prod\")\n",
        "print(func.prod(axis=1))  # Multiplication of all elements row wise"
      ],
      "metadata": {
        "colab": {
          "base_uri": "https://localhost:8080/"
        },
        "id": "D-Mhace9uput",
        "outputId": "dbdc110b-1bf4-48c0-dd34-ea8fd2febb31"
      },
      "execution_count": null,
      "outputs": [
        {
          "output_type": "stream",
          "name": "stdout",
          "text": [
            "Column Minimum\n",
            "[1.23497487 0.28209805 2.48813207]\n",
            "Row Maximum\n",
            "[5.76655491 5.58751918 4.97363098]\n",
            "Column Sum\n",
            "[10.71694599  9.70746526 10.683233  ]\n",
            "Row Prod\n",
            "[ 4.04752874 30.71896445 48.18578788]\n"
          ]
        }
      ]
    },
    {
      "cell_type": "markdown",
      "source": [
        "### Mean , Median , Standard Deviation ,  Varience"
      ],
      "metadata": {
        "id": "k1iQAien7PyA"
      }
    },
    {
      "cell_type": "code",
      "source": [
        "# Mean/Median/Std/Var  ==>  axis option is available\n",
        "\n",
        "print(\"Mean\")\n",
        "print(np.mean(func))\n",
        "\n",
        "print(\"Median\")\n",
        "print(np.median(func))\n",
        "\n",
        "print(\"Standard deviation\")\n",
        "print(np.std(func))\n",
        "\n",
        "print(\"Varience\")\n",
        "print(np.var(func))"
      ],
      "metadata": {
        "colab": {
          "base_uri": "https://localhost:8080/"
        },
        "id": "c1sI55ih2GNq",
        "outputId": "8951ba85-d6d8-40c3-ee9f-e5cfb18b83e3"
      },
      "execution_count": null,
      "outputs": [
        {
          "output_type": "stream",
          "name": "stdout",
          "text": [
            "Mean\n",
            "3.456404916003623\n",
            "Median\n",
            "3.7154162051761186\n",
            "Standard deviation\n",
            "1.822916338381276\n",
            "Variance\n",
            "3.3230239767373995\n"
          ]
        }
      ]
    },
    {
      "cell_type": "markdown",
      "source": [
        "### Tregonomoetric functions are not used in Data Science"
      ],
      "metadata": {
        "id": "pUXpVmBg732g"
      }
    },
    {
      "cell_type": "markdown",
      "source": [
        "### Dot Product function"
      ],
      "metadata": {
        "id": "-XQORqSr8XDt"
      }
    },
    {
      "cell_type": "code",
      "source": [
        "# These arrays for dot product\n",
        "\n",
        "import numpy as np\n",
        "DP1_func=np.arange(12).reshape(3,4)\n",
        "DP2_func=np.arange(12,24).reshape(4,3)\n"
      ],
      "metadata": {
        "colab": {
          "base_uri": "https://localhost:8080/"
        },
        "id": "aJKo-sfF5tWo",
        "outputId": "3090c35b-bda9-4f9d-fe9d-304989388f5d"
      },
      "execution_count": null,
      "outputs": [
        {
          "output_type": "stream",
          "name": "stdout",
          "text": [
            "[[ 0  1  2  3]\n",
            " [ 4  5  6  7]\n",
            " [ 8  9 10 11]] [[12 13 14]\n",
            " [15 16 17]\n",
            " [18 19 20]\n",
            " [21 22 23]]\n"
          ]
        }
      ]
    },
    {
      "cell_type": "code",
      "source": [
        "# Dot product\n",
        "\n",
        "print(np.dot(DP1_func,DP2_func))   # Do multiplication rows elements of 1st array to columns elements of 2nd array and then sum"
      ],
      "metadata": {
        "colab": {
          "base_uri": "https://localhost:8080/"
        },
        "id": "YRQgK3ar8C_2",
        "outputId": "728eca7e-f238-4912-f889-d40a053180f8"
      },
      "execution_count": null,
      "outputs": [
        {
          "output_type": "stream",
          "name": "stdout",
          "text": [
            "[[114 120 126]\n",
            " [378 400 422]\n",
            " [642 680 718]]\n"
          ]
        }
      ]
    },
    {
      "cell_type": "markdown",
      "source": [
        "### log and exponents"
      ],
      "metadata": {
        "id": "wWphxCb7DOqB"
      }
    },
    {
      "cell_type": "code",
      "source": [
        "# This array for log and exponent\n",
        "\n",
        "import numpy as np\n",
        "le=np.arange(4).reshape(2,2)\n"
      ],
      "metadata": {
        "colab": {
          "base_uri": "https://localhost:8080/"
        },
        "id": "x-VMeZrj8DCm",
        "outputId": "8a6f493f-d752-44b0-89ef-e5370fea5e5b"
      },
      "execution_count": null,
      "outputs": [
        {
          "output_type": "stream",
          "name": "stdout",
          "text": [
            "[[0 1]\n",
            " [2 3]]\n"
          ]
        }
      ]
    },
    {
      "cell_type": "code",
      "source": [
        "# log and exponent\n",
        "\n",
        "print(\"Log\")\n",
        "print(np.log(le))   # log\n",
        "\n",
        "print(\"Exponent\")\n",
        "print(np.exp(le))   # exponent"
      ],
      "metadata": {
        "colab": {
          "base_uri": "https://localhost:8080/"
        },
        "id": "vb337QIa8DFS",
        "outputId": "646cb096-9b93-43aa-dab0-a10377e46895"
      },
      "execution_count": null,
      "outputs": [
        {
          "output_type": "stream",
          "name": "stdout",
          "text": [
            "Log\n",
            "[[      -inf 0.        ]\n",
            " [0.69314718 1.09861229]]\n",
            "Exponent\n",
            "[[ 1.          2.71828183]\n",
            " [ 7.3890561  20.08553692]]\n"
          ]
        },
        {
          "output_type": "stream",
          "name": "stderr",
          "text": [
            "<ipython-input-98-e2b8fa0b9ddc>:4: RuntimeWarning: divide by zero encountered in log\n",
            "  print(np.log(le))   # log\n"
          ]
        }
      ]
    },
    {
      "cell_type": "markdown",
      "source": [
        "### Round , Floor , Ceil functions"
      ],
      "metadata": {
        "id": "9cfxkz9AFyHv"
      }
    },
    {
      "cell_type": "code",
      "source": [
        "# round,floor,ceil\n",
        "\n",
        "\n",
        "import numpy as np\n",
        "demo=np.array([[[6.9,2.3,7.1],[5.8,1.3,9.1],[3.7,2.9,4.8]]])\n",
        "print(demo)\n",
        "\n",
        "# Round\n",
        "print(\"Round\")\n",
        "print(np.round(demo))\n",
        "\n",
        "# Floor\n",
        "print(\"Floor\")\n",
        "print(np.floor(demo))\n",
        "\n",
        "# Ceil\n",
        "print(\"Celi\")\n",
        "print(np.ceil(demo))\n"
      ],
      "metadata": {
        "colab": {
          "base_uri": "https://localhost:8080/"
        },
        "id": "rZgROrnu8DIp",
        "outputId": "67fea342-4eea-4b2d-c23a-fbf668e62b97"
      },
      "execution_count": null,
      "outputs": [
        {
          "output_type": "stream",
          "name": "stdout",
          "text": [
            "[[[6.9 2.3 7.1]\n",
            "  [5.8 1.3 9.1]\n",
            "  [3.7 2.9 4.8]]]\n",
            "Round\n",
            "[[[7. 2. 7.]\n",
            "  [6. 1. 9.]\n",
            "  [4. 3. 5.]]]\n",
            "Floor\n",
            "[[[6. 2. 7.]\n",
            "  [5. 1. 9.]\n",
            "  [3. 2. 4.]]]\n",
            "Celi\n",
            "[[[ 7.  3.  8.]\n",
            "  [ 6.  2. 10.]\n",
            "  [ 4.  3.  5.]]]\n"
          ]
        }
      ]
    },
    {
      "cell_type": "markdown",
      "source": [
        "### Indexing and Slicing"
      ],
      "metadata": {
        "id": "rzPuWpmVIG5N"
      }
    },
    {
      "cell_type": "code",
      "source": [
        "# Example for indexing with 1D array\n",
        "\n",
        "import numpy as np\n",
        "index=np.arange(1,11,2)  # start-end-step\n",
        "print(index)\n",
        "print(index[4])     # it return the 5 element from the given array\n"
      ],
      "metadata": {
        "colab": {
          "base_uri": "https://localhost:8080/"
        },
        "id": "hLbPHt-5GRnu",
        "outputId": "782997e1-7f0e-41e5-bd74-f0ff5d290313"
      },
      "execution_count": null,
      "outputs": [
        {
          "output_type": "stream",
          "name": "stdout",
          "text": [
            "[1 3 5 7 9]\n",
            "9\n"
          ]
        }
      ]
    },
    {
      "cell_type": "code",
      "source": [
        "# Example for indexing with 2D array\n",
        "\n",
        "import numpy as np\n",
        "index_2=np.array([[1,2,3],[10,20,30],[11,22,33],[15,30,45]])\n",
        "print(index_2)\n",
        "print(\"Indexing\")\n",
        "print(index_2[3,2])    # 3 is the row and 2 is column"
      ],
      "metadata": {
        "colab": {
          "base_uri": "https://localhost:8080/"
        },
        "id": "xKbaFJUHeweh",
        "outputId": "25536aff-e775-4ef2-d77d-b8cd5be88e70"
      },
      "execution_count": null,
      "outputs": [
        {
          "output_type": "stream",
          "name": "stdout",
          "text": [
            "[[ 1  2  3]\n",
            " [10 20 30]\n",
            " [11 22 33]\n",
            " [15 30 45]]\n",
            "Indexing\n",
            "45\n"
          ]
        }
      ]
    },
    {
      "cell_type": "code",
      "source": [
        "# Example for indexing with 3D array\n",
        "\n",
        "import numpy as np\n",
        "index_3=np.array([[[1,2,3],[4,5,6]],[[7,8,9],[10,11,12]]])\n",
        "print(index_3)\n",
        "print(index_3[1,0,2])"
      ],
      "metadata": {
        "colab": {
          "base_uri": "https://localhost:8080/"
        },
        "id": "RPbbyDEeey_z",
        "outputId": "fc9401ab-51b9-498f-85c1-0a4047a6b143"
      },
      "execution_count": null,
      "outputs": [
        {
          "output_type": "stream",
          "name": "stdout",
          "text": [
            "[[[ 1  2  3]\n",
            "  [ 4  5  6]]\n",
            "\n",
            " [[ 7  8  9]\n",
            "  [10 11 12]]]\n",
            "9\n"
          ]
        }
      ]
    },
    {
      "cell_type": "code",
      "source": [
        "# Example for slicing with 1D array\n",
        "\n",
        "import numpy as np\n",
        "Slice=np.arange(10,20)\n",
        "print(Slice[2:6])       # it return no. of elements from 2nd index positon to 5th position\n"
      ],
      "metadata": {
        "colab": {
          "base_uri": "https://localhost:8080/"
        },
        "id": "4NYKj2FIIg8S",
        "outputId": "4309e538-e1da-4e98-a591-aeb71a36b296"
      },
      "execution_count": null,
      "outputs": [
        {
          "output_type": "stream",
          "name": "stdout",
          "text": [
            "[12 13 14 15]\n"
          ]
        }
      ]
    },
    {
      "cell_type": "code",
      "source": [
        "# Example for slicing with 2D array\n",
        "\n",
        "import numpy as np\n",
        "Slice_2=np.array([[79,58,26],[82,11,47],[39,61,93],[29,44,80]])\n",
        "print(Slice_2)\n",
        "print(\"Slicing\")\n",
        "print(Slice_2[2][1:])   # 1st rows then 2nd column\n",
        "print(Slice_2[0:,1:2])  # 0: no. of rows and 1:2 no. of column\n",
        "#print(Slice_2[0:,1:])  # Don't know"
      ],
      "metadata": {
        "colab": {
          "base_uri": "https://localhost:8080/"
        },
        "id": "hUipBju3IhB7",
        "outputId": "c87db022-a855-4114-e597-1535b013b8f7"
      },
      "execution_count": null,
      "outputs": [
        {
          "output_type": "stream",
          "name": "stdout",
          "text": [
            "[[79 58 26]\n",
            " [82 11 47]\n",
            " [39 61 93]\n",
            " [29 44 80]]\n",
            "Slicing\n",
            "[61 93]\n",
            "[[58]\n",
            " [11]\n",
            " [61]\n",
            " [44]]\n",
            "[[58 26]\n",
            " [11 47]\n",
            " [61 93]\n",
            " [44 80]]\n"
          ]
        }
      ]
    },
    {
      "cell_type": "code",
      "source": [
        "# Example for slicing with 3D array\n",
        "\n",
        "import numpy as np\n",
        "Slice_3=np.array([[[1,2,3],[4,5,6]],[[7,8,9],[10,11,12]]])\n",
        "print(Slice_3)\n",
        "print(Slice_3[1][0][0:2])   # 1st no. of array then 2nd row then 3rd column\n"
      ],
      "metadata": {
        "colab": {
          "base_uri": "https://localhost:8080/"
        },
        "id": "XqfziHvkIhFV",
        "outputId": "3b27ea3f-6999-4533-eea3-bcd93fbddbf5"
      },
      "execution_count": null,
      "outputs": [
        {
          "output_type": "stream",
          "name": "stdout",
          "text": [
            "[[[ 1  2  3]\n",
            "  [ 4  5  6]]\n",
            "\n",
            " [[ 7  8  9]\n",
            "  [10 11 12]]]\n",
            "[7 8]\n"
          ]
        }
      ]
    },
    {
      "cell_type": "markdown",
      "source": [
        "### Iterating"
      ],
      "metadata": {
        "id": "2OVJQC6_wEF0"
      }
    },
    {
      "cell_type": "code",
      "source": [
        "# Example for iterating in array\n",
        "\n",
        "import numpy as np\n",
        "iter=np.arange(10,40).reshape(2,3,5)  # (2 is no. of D-array)=(3 is no. of rows)=(5 is no. of columns)\n",
        "for i in iter:\n",
        "  print(i)\n"
      ],
      "metadata": {
        "colab": {
          "base_uri": "https://localhost:8080/"
        },
        "id": "E5Ge360Jagxm",
        "outputId": "7b02e519-6bcd-40c7-9c90-6488afc4e874"
      },
      "execution_count": null,
      "outputs": [
        {
          "output_type": "stream",
          "name": "stdout",
          "text": [
            "[[10 11 12 13 14]\n",
            " [15 16 17 18 19]\n",
            " [20 21 22 23 24]]\n",
            "[[25 26 27 28 29]\n",
            " [30 31 32 33 34]\n",
            " [35 36 37 38 39]]\n"
          ]
        }
      ]
    },
    {
      "cell_type": "code",
      "source": [
        "# Example for interating in array with nditer\n",
        "\n",
        "import numpy as np\n",
        "iter=np.arange(10,34,2).reshape(2,3,2)\n",
        "print(iter)\n",
        "for i in np.nditer(iter):     # print all the values line by line of (2d,3d,4d) and so on.\n",
        "  print(i)\n"
      ],
      "metadata": {
        "colab": {
          "base_uri": "https://localhost:8080/"
        },
        "id": "bf3tobzQwI9d",
        "outputId": "505ab22a-3252-4b27-b2e3-93307f30b37c"
      },
      "execution_count": null,
      "outputs": [
        {
          "output_type": "stream",
          "name": "stdout",
          "text": [
            "[[[10 12]\n",
            "  [14 16]\n",
            "  [18 20]]\n",
            "\n",
            " [[22 24]\n",
            "  [26 28]\n",
            "  [30 32]]]\n",
            "10\n",
            "12\n",
            "14\n",
            "16\n",
            "18\n",
            "20\n",
            "22\n",
            "24\n",
            "26\n",
            "28\n",
            "30\n",
            "32\n"
          ]
        }
      ]
    },
    {
      "cell_type": "markdown",
      "source": [
        "### Reshape\n",
        "* Make no. of columns and rows by our own choice."
      ],
      "metadata": {
        "id": "cuZIAKM4wJhg"
      }
    },
    {
      "cell_type": "code",
      "source": [
        "# Example for reshape with arange\n",
        "\n",
        "import numpy as np\n",
        "shape1=np.arange(1,13).reshape(2,2,3)\n",
        "print(shape1)"
      ],
      "metadata": {
        "colab": {
          "base_uri": "https://localhost:8080/"
        },
        "id": "N6oGIMJSwNuh",
        "outputId": "bd562207-92fe-449c-f207-7771a44ce53c"
      },
      "execution_count": null,
      "outputs": [
        {
          "output_type": "stream",
          "name": "stdout",
          "text": [
            "[[[ 1  2  3]\n",
            "  [ 4  5  6]]\n",
            "\n",
            " [[ 7  8  9]\n",
            "  [10 11 12]]]\n"
          ]
        }
      ]
    },
    {
      "cell_type": "code",
      "source": [
        "# Example for reshape with array\n",
        "\n",
        "import numpy as np\n",
        "shape2=np.array([[1,2,3],[4,5,6]])\n",
        "print(\"Before Reshaping \")\n",
        "print(shape2)               # Before Reshaping array was in 2,3\n",
        "print(\"After Reshaping\")\n",
        "print(shape2.reshape(3,2))  # After Reshaping array is in 3,2\n"
      ],
      "metadata": {
        "colab": {
          "base_uri": "https://localhost:8080/"
        },
        "id": "n_8F9KqUdFtg",
        "outputId": "eeb299a9-540c-4a5a-b38a-1eb15d7e73b2"
      },
      "execution_count": null,
      "outputs": [
        {
          "output_type": "stream",
          "name": "stdout",
          "text": [
            "Before Reshaping \n",
            "[[1 2 3]\n",
            " [4 5 6]]\n",
            "After Reshaping\n",
            "[[1 2]\n",
            " [3 4]\n",
            " [5 6]]\n"
          ]
        }
      ]
    },
    {
      "cell_type": "markdown",
      "source": [
        "### Transpose\n",
        "* Change rows into columns and columns into rows."
      ],
      "metadata": {
        "id": "gCLkYAeRkUeK"
      }
    },
    {
      "cell_type": "code",
      "source": [
        "# Transpose ==> Change rows into columns and vica versa!!!\n",
        "\n",
        "import numpy as np\n",
        "trans=np.array([[[1,2,3],[4,5,6]],[[7,8,9],[10,11,12]]])\n",
        "print(\"Before Tanspose\")\n",
        "print(trans)\n",
        "print(\"After Transpose\")\n",
        "print(np.transpose(trans))  # same as --> print(trans.T)\n"
      ],
      "metadata": {
        "colab": {
          "base_uri": "https://localhost:8080/"
        },
        "id": "kap6HweVwPJg",
        "outputId": "b3447cfa-b8b0-47c6-a062-22c3a32cecc7"
      },
      "execution_count": null,
      "outputs": [
        {
          "output_type": "stream",
          "name": "stdout",
          "text": [
            "Before Tanspose\n",
            "[[[ 1  2  3]\n",
            "  [ 4  5  6]]\n",
            "\n",
            " [[ 7  8  9]\n",
            "  [10 11 12]]]\n",
            "After Transpose\n",
            "[[[ 1  7]\n",
            "  [ 4 10]]\n",
            "\n",
            " [[ 2  8]\n",
            "  [ 5 11]]\n",
            "\n",
            " [[ 3  9]\n",
            "  [ 6 12]]]\n"
          ]
        }
      ]
    },
    {
      "cell_type": "code",
      "source": [
        "# Example for Transpose with arange and reshape function together\n",
        "\n",
        "import numpy as np\n",
        "T_Demo=np.arange(15).reshape(5,3)\n",
        "print(\"Before Tanspose\")\n",
        "print(T_Demo)\n",
        "print(\"After Tanspose\")\n",
        "print(T_Demo.T) #  same as --> print(np.transpose(T_Demo))"
      ],
      "metadata": {
        "colab": {
          "base_uri": "https://localhost:8080/"
        },
        "id": "Dsqu4qB8hEPj",
        "outputId": "a51ad060-05b9-447d-baef-d5db4e6c4de4"
      },
      "execution_count": null,
      "outputs": [
        {
          "output_type": "stream",
          "name": "stdout",
          "text": [
            "Before Tanspose\n",
            "[[ 0  1  2]\n",
            " [ 3  4  5]\n",
            " [ 6  7  8]\n",
            " [ 9 10 11]\n",
            " [12 13 14]]\n",
            "After Tanspose\n",
            "[[ 0  3  6  9 12]\n",
            " [ 1  4  7 10 13]\n",
            " [ 2  5  8 11 14]]\n"
          ]
        }
      ]
    },
    {
      "cell_type": "markdown",
      "source": [
        "### Ravel\n",
        "* convert 2d,3d,4d and so on arrays into 1d array."
      ],
      "metadata": {
        "id": "ZNuxJlnJkX-q"
      }
    },
    {
      "cell_type": "code",
      "source": [
        "# Ravel --> convert into 1D array be it.It is 2d or 3d or 4nd and so on\n",
        "\n",
        "import numpy as np\n",
        "R=np.arange(1,19).reshape(2,3,3)\n",
        "print(R)\n",
        "print(R.ravel())    # Converting 3d array into 1d array"
      ],
      "metadata": {
        "colab": {
          "base_uri": "https://localhost:8080/"
        },
        "id": "rjAeGgRWwPM-",
        "outputId": "e945758b-ff2f-42ab-fd07-b1e96d7a953a"
      },
      "execution_count": null,
      "outputs": [
        {
          "output_type": "stream",
          "name": "stdout",
          "text": [
            "[[[ 1  2  3]\n",
            "  [ 4  5  6]\n",
            "  [ 7  8  9]]\n",
            "\n",
            " [[10 11 12]\n",
            "  [13 14 15]\n",
            "  [16 17 18]]]\n",
            "[ 1  2  3  4  5  6  7  8  9 10 11 12 13 14 15 16 17 18]\n"
          ]
        }
      ]
    },
    {
      "cell_type": "markdown",
      "source": [
        "### Stacking\n",
        "* Add two or more arrays together horizontally and vertically."
      ],
      "metadata": {
        "id": "cXARrcpzwPlk"
      }
    },
    {
      "cell_type": "code",
      "source": [
        "# Example for horizontal stacking ( - )\n",
        "\n",
        "import numpy as np\n",
        "Stack_1=np.arange(9).reshape(3,3)\n",
        "Stack_2=np.arange(9,18).reshape(3,3)\n",
        "print(\"Stack_1\")\n",
        "print(Stack_1)\n",
        "print(\"=========================\")\n",
        "print(\"Stack_2\")\n",
        "print(Stack_2)\n",
        "print(\"=========================\")\n",
        "\n",
        "# H Stacking here\n",
        "print(np.hstack((Stack_1,Stack_2)))"
      ],
      "metadata": {
        "colab": {
          "base_uri": "https://localhost:8080/"
        },
        "id": "CLl9m8g9wSAh",
        "outputId": "8d150692-2b31-4ba0-834d-170b35c6234e"
      },
      "execution_count": null,
      "outputs": [
        {
          "output_type": "stream",
          "name": "stdout",
          "text": [
            "Stack_1\n",
            "[[0 1 2]\n",
            " [3 4 5]\n",
            " [6 7 8]]\n",
            "=========================\n",
            "Stack_2\n",
            "[[ 9 10 11]\n",
            " [12 13 14]\n",
            " [15 16 17]]\n",
            "=========================\n",
            "[[ 0  1  2  9 10 11]\n",
            " [ 3  4  5 12 13 14]\n",
            " [ 6  7  8 15 16 17]]\n"
          ]
        }
      ]
    },
    {
      "cell_type": "code",
      "source": [
        "# Example for Vertical stacking ( | )\n",
        "\n",
        "import numpy as np\n",
        "Stack_V1=np.arange(1,5).reshape(2,2)\n",
        "Stack_V2=np.arange(5,9).reshape(2,2)\n",
        "print(\"Stack_V1\")\n",
        "print(Stack_V1)\n",
        "print(\"=========================\")\n",
        "print(\"Stack_V2\")\n",
        "print(Stack_V2)\n",
        "print(\"=========================\")\n",
        "\n",
        "# V Stacking here\n",
        "print(np.vstack((Stack_V1,Stack_V2)))"
      ],
      "metadata": {
        "colab": {
          "base_uri": "https://localhost:8080/"
        },
        "id": "XvFjMIaYwSy5",
        "outputId": "fee5445c-acd3-40af-f795-fcdf1ad730fd"
      },
      "execution_count": null,
      "outputs": [
        {
          "output_type": "stream",
          "name": "stdout",
          "text": [
            "Stack_V1\n",
            "[[1 2]\n",
            " [3 4]]\n",
            "=========================\n",
            "Stack_V2\n",
            "[[5 6]\n",
            " [7 8]]\n",
            "=========================\n",
            "[[1 2]\n",
            " [3 4]\n",
            " [5 6]\n",
            " [7 8]]\n"
          ]
        }
      ]
    },
    {
      "cell_type": "markdown",
      "source": [
        "### Splitting\n",
        "* Divide arrays in two or more arrays horizontally and vertically."
      ],
      "metadata": {
        "id": "Mf_OoHiTl_BN"
      }
    },
    {
      "cell_type": "code",
      "source": [
        "# Example for horizontal splitting  ( | )\n",
        "\n",
        "import numpy as np\n",
        "Split_h=np.arange(1,13).reshape(3,4)\n",
        "print(Split_h)\n",
        "print('========= Horizontal Split ========')\n",
        "print(np.hsplit(Split_h,2))   # Split_h is the array name and 2 is no. of arrays\n"
      ],
      "metadata": {
        "colab": {
          "base_uri": "https://localhost:8080/"
        },
        "id": "HGJPVK9HmCJU",
        "outputId": "2239e0eb-8ff3-48f5-a1f2-02e03241cf5d"
      },
      "execution_count": null,
      "outputs": [
        {
          "output_type": "stream",
          "name": "stdout",
          "text": [
            "[[ 1  2  3  4]\n",
            " [ 5  6  7  8]\n",
            " [ 9 10 11 12]]\n",
            "========= Horizontal Split ========\n",
            "[array([[ 1,  2],\n",
            "       [ 5,  6],\n",
            "       [ 9, 10]]), array([[ 3,  4],\n",
            "       [ 7,  8],\n",
            "       [11, 12]])]\n"
          ]
        }
      ]
    },
    {
      "cell_type": "code",
      "source": [
        "# Example for vertical splitting ( - )\n",
        "\n",
        "import numpy as np\n",
        "Split_v=np.arange(10,130,10).reshape(4,3)\n",
        "print(Split_v)\n",
        "print('========= Vertical Split ========')\n",
        "print(np.vsplit(Split_v,2))   # Split_v is the array name and 2 is no. of arrays\n"
      ],
      "metadata": {
        "colab": {
          "base_uri": "https://localhost:8080/"
        },
        "id": "9Qt_HB5jzuIq",
        "outputId": "63b4face-3ee1-4b92-bd0e-5f1c6f180b66"
      },
      "execution_count": null,
      "outputs": [
        {
          "output_type": "stream",
          "name": "stdout",
          "text": [
            "[[ 10  20  30]\n",
            " [ 40  50  60]\n",
            " [ 70  80  90]\n",
            " [100 110 120]]\n",
            "========= Vertical Split ========\n",
            "[array([[10, 20, 30],\n",
            "       [40, 50, 60]]), array([[ 70,  80,  90],\n",
            "       [100, 110, 120]])]\n"
          ]
        }
      ]
    },
    {
      "cell_type": "markdown",
      "source": [
        "## Numpy array Vs Python lists"
      ],
      "metadata": {
        "id": "TR6hMdgg2uZw"
      }
    },
    {
      "cell_type": "markdown",
      "source": [
        "### Time"
      ],
      "metadata": {
        "id": "XhZYiX2tAFPu"
      }
    },
    {
      "cell_type": "code",
      "source": [
        "# Time in list\n",
        "\n",
        "\n",
        "\n",
        "import time\n",
        "\n",
        "a=[i for i in range(10000000)]\n",
        "b=[i for i in range(10000000,20000000)]\n",
        "c=[]\n",
        "\n",
        "start=time.time()\n",
        "for i in range(len(a)):\n",
        "  c.append(a[i] + b[i])\n",
        "print(time.time()-start)"
      ],
      "metadata": {
        "colab": {
          "base_uri": "https://localhost:8080/"
        },
        "id": "V2mSHzaA1oqS",
        "outputId": "ccc053d7-d777-4009-efc6-7e02a2cd1b7c"
      },
      "execution_count": null,
      "outputs": [
        {
          "output_type": "stream",
          "name": "stdout",
          "text": [
            "3.8632755279541016\n"
          ]
        }
      ]
    },
    {
      "cell_type": "code",
      "source": [
        "# Time in array\n",
        "\n",
        "import numpy as np\n",
        "\n",
        "a=np.arange(10000000)\n",
        "b=np.arange(10000000,20000000)\n",
        "start=time.time()\n",
        "c=a+b\n",
        "print(time.time()-start)\n"
      ],
      "metadata": {
        "colab": {
          "base_uri": "https://localhost:8080/"
        },
        "id": "BOpWiU8x9pYZ",
        "outputId": "77cc4f61-8585-4622-952c-7029eb4c09e0"
      },
      "execution_count": null,
      "outputs": [
        {
          "output_type": "stream",
          "name": "stdout",
          "text": [
            "0.0327608585357666\n"
          ]
        }
      ]
    },
    {
      "cell_type": "markdown",
      "source": [
        "### Memory"
      ],
      "metadata": {
        "id": "fUWnUQ3rAIBh"
      }
    },
    {
      "cell_type": "code",
      "source": [
        "# Memory in list\n",
        "\n",
        "import sys\n",
        "num=[i for i in range(10000000)]\n",
        "print(sys.getsizeof(num))    # result in bytes\n"
      ],
      "metadata": {
        "colab": {
          "base_uri": "https://localhost:8080/"
        },
        "id": "v3-Y5wiw-wr5",
        "outputId": "d0e1f10c-8b7b-4aa1-9d4f-dabe0884a2c7"
      },
      "execution_count": null,
      "outputs": [
        {
          "output_type": "stream",
          "name": "stdout",
          "text": [
            "81528048\n"
          ]
        }
      ]
    },
    {
      "cell_type": "code",
      "source": [
        "# Memory in array\n",
        "\n",
        "import numpy as np\n",
        "a=np.arange(10000000)    # Memory size can be reduced by (1000,dtype=np.int31/int16/int8) by default array use int64\n",
        "print(sys.getsizeof(a))      # result in bytes\n"
      ],
      "metadata": {
        "colab": {
          "base_uri": "https://localhost:8080/"
        },
        "id": "9EAYycJ7AcOE",
        "outputId": "0593c7a0-9f00-46d3-b0d1-75db4f917137"
      },
      "execution_count": null,
      "outputs": [
        {
          "output_type": "stream",
          "name": "stdout",
          "text": [
            "20000104\n"
          ]
        }
      ]
    },
    {
      "cell_type": "markdown",
      "source": [
        "### Convience\n",
        "* Look at upper codes"
      ],
      "metadata": {
        "id": "YLizErmTBd8q"
      }
    },
    {
      "cell_type": "markdown",
      "source": [
        "## Advanced Indexing"
      ],
      "metadata": {
        "id": "tx8L3zfRB3F0"
      }
    },
    {
      "cell_type": "markdown",
      "source": [
        "### Normal Indexing"
      ],
      "metadata": {
        "id": "yl6pwlrHayOM"
      }
    },
    {
      "cell_type": "code",
      "source": [
        "# Normal indexing and slicing\n",
        "\n",
        "import numpy as np\n",
        "num=np.arange(12).reshape(4,3)\n",
        "print(num)\n",
        "print(\"========= Indexing =========\")\n",
        "print(num[1,1])\n",
        "print(\"========= Slicing =========\")\n",
        "print(num[2:,1:])"
      ],
      "metadata": {
        "colab": {
          "base_uri": "https://localhost:8080/"
        },
        "id": "PaUbdtfIA2UM",
        "outputId": "98ee3547-88da-4e95-86f2-92cbe1b77844"
      },
      "execution_count": null,
      "outputs": [
        {
          "output_type": "stream",
          "name": "stdout",
          "text": [
            "[[ 0  1  2]\n",
            " [ 3  4  5]\n",
            " [ 6  7  8]\n",
            " [ 9 10 11]]\n",
            "========= Indexing =========\n",
            "4\n",
            "========= Slicing =========\n",
            "[[ 7  8]\n",
            " [10 11]]\n"
          ]
        }
      ]
    },
    {
      "cell_type": "markdown",
      "source": [
        "### Fancy Indexing\n",
        "* Declare the rows and columns inside the list for specific rows and columns."
      ],
      "metadata": {
        "id": "0VO-U1sEEL4L"
      }
    },
    {
      "cell_type": "code",
      "source": [
        "# Fancy indexing\n",
        "\n",
        "import numpy as np\n",
        "fancy=np.arange(24).reshape(6,4)\n",
        "print(fancy)\n",
        "print('========== Fancy indexing row wise ==========')\n",
        "print(fancy[[0,2,3,5]])   # this indexing in rows\n",
        "print('========== Fancy indexing column wise ==========')\n",
        "print(fancy[:,[0,1,3]])   # this indexinng in column\n"
      ],
      "metadata": {
        "colab": {
          "base_uri": "https://localhost:8080/"
        },
        "id": "Oj9Ch7gBDuUz",
        "outputId": "39dd5505-fc96-4269-ba8f-a879007dfb50"
      },
      "execution_count": null,
      "outputs": [
        {
          "output_type": "stream",
          "name": "stdout",
          "text": [
            "[[ 0  1  2  3]\n",
            " [ 4  5  6  7]\n",
            " [ 8  9 10 11]\n",
            " [12 13 14 15]\n",
            " [16 17 18 19]\n",
            " [20 21 22 23]]\n",
            "========== Fancy indexing row wise ==========\n",
            "[[ 0  1  2  3]\n",
            " [ 8  9 10 11]\n",
            " [12 13 14 15]\n",
            " [20 21 22 23]]\n",
            "========== Fancy indexing column wise ==========\n",
            "[[ 0  1  3]\n",
            " [ 4  5  7]\n",
            " [ 8  9 11]\n",
            " [12 13 15]\n",
            " [16 17 19]\n",
            " [20 21 23]]\n"
          ]
        }
      ]
    },
    {
      "cell_type": "code",
      "source": [
        "# Both in one example\n",
        "\n",
        "import numpy as np\n",
        "num=np.arange(10,35).reshape(5,5)\n",
        "print(num)\n",
        "print(\"========== Row & column indexing ==========\")\n",
        "print(num[[0,3,4],[1,2,4]])  # [0,3,4] rows and [1,2,4] columns\n"
      ],
      "metadata": {
        "colab": {
          "base_uri": "https://localhost:8080/"
        },
        "id": "tIy9nR4UEPA8",
        "outputId": "c14188ab-ab98-49b9-cc5b-c9d3890b1962"
      },
      "execution_count": null,
      "outputs": [
        {
          "output_type": "stream",
          "name": "stdout",
          "text": [
            "[[10 11 12 13 14]\n",
            " [15 16 17 18 19]\n",
            " [20 21 22 23 24]\n",
            " [25 26 27 28 29]\n",
            " [30 31 32 33 34]]\n",
            "========== Row & column indexing ==========\n",
            "[11 27 34]\n"
          ]
        }
      ]
    },
    {
      "cell_type": "markdown",
      "source": [
        "### Boolean Indexing"
      ],
      "metadata": {
        "id": "cn-tJRznEUPV"
      }
    },
    {
      "cell_type": "code",
      "source": [
        "# Boolean indexing\n",
        "\n",
        "import numpy as nu\n",
        "a=np.random.randint(1,100,24).reshape(6,4)  # Start , End , No. of elements\n",
        "print(a)\n",
        "\n",
        "print(\"========== Boolean Indexing ==========\")\n",
        "print(a>27)      # return the true and false\n",
        "\n",
        "print(\"========== Filtering Numbers ==========\")\n",
        "print(a[a>27])   # return the numbers which is greater than given element\n"
      ],
      "metadata": {
        "colab": {
          "base_uri": "https://localhost:8080/"
        },
        "id": "V4y3-BobEYAI",
        "outputId": "cc6d73b3-e90d-4522-e630-1ca1d28e5fdb"
      },
      "execution_count": null,
      "outputs": [
        {
          "output_type": "stream",
          "name": "stdout",
          "text": [
            "[[68 29 75 48]\n",
            " [60 60 80  3]\n",
            " [80 90 71 69]\n",
            " [57 62 29 78]\n",
            " [14 22  4 53]\n",
            " [73 71 65 33]]\n",
            "========== Boolean Indexing ==========\n",
            "[[ True  True  True  True]\n",
            " [ True  True  True False]\n",
            " [ True  True  True  True]\n",
            " [ True  True  True  True]\n",
            " [False False False  True]\n",
            " [ True  True  True  True]]\n",
            "========== Filtering Numbers ==========\n",
            "[68 29 75 48 60 60 80 80 90 71 69 57 62 29 78 53 73 71 65 33]\n"
          ]
        }
      ]
    },
    {
      "cell_type": "code",
      "source": [
        "# find Even numbers\n",
        "\n",
        "import numpy as np\n",
        "even=np.random.randint(1,100,50).reshape(2,5,5)\n",
        "print(even)\n",
        "\n",
        "print(\"=========== Even Numbers in true and false ===========\")\n",
        "print(even % 2 == 0)   # return the true and false\n",
        "\n",
        "print(\"=========== Even Numbers  ===========\")\n",
        "print(even[even % 2 == 0])   # return the numbers"
      ],
      "metadata": {
        "colab": {
          "base_uri": "https://localhost:8080/"
        },
        "id": "G-bxL2E3EYsO",
        "outputId": "1d07e408-6add-402f-8057-b08c146ce88b"
      },
      "execution_count": null,
      "outputs": [
        {
          "output_type": "stream",
          "name": "stdout",
          "text": [
            "[[[97 74 79  1 53]\n",
            "  [98 46  4 25 79]\n",
            "  [53 44  6 97 63]\n",
            "  [13 65 70 62 55]\n",
            "  [22 96 47 20 97]]\n",
            "\n",
            " [[51 90 24 51 74]\n",
            "  [67 33 28 99 33]\n",
            "  [54 10 50 55 87]\n",
            "  [12  2 37 59 43]\n",
            "  [12 20 43 97 26]]]\n",
            "=========== Even Numbers in true and false ===========\n",
            "[[[False  True False False False]\n",
            "  [ True  True  True False False]\n",
            "  [False  True  True False False]\n",
            "  [False False  True  True False]\n",
            "  [ True  True False  True False]]\n",
            "\n",
            " [[False  True  True False  True]\n",
            "  [False False  True False False]\n",
            "  [ True  True  True False False]\n",
            "  [ True  True False False False]\n",
            "  [ True  True False False  True]]]\n",
            "=========== Even Numbers  ===========\n",
            "[74 98 46  4 44  6 70 62 22 96 20 90 24 74 28 54 10 50 12  2 12 20 26]\n"
          ]
        }
      ]
    },
    {
      "cell_type": "code",
      "source": [
        "# Even numbers\n",
        "\n",
        "import numpy as np\n",
        "prime=np.random.randint(1,100,20).reshape(5,4)\n",
        "print(prime)\n",
        "\n",
        "print(\"========== Prime numbers in true and false ==========\")\n",
        "print((prime % 2 != 0) & (prime % 3 != 0))   # return true and false\n",
        "\n",
        "print(\"========== Prime numbers ==========\")\n",
        "print(prime[(prime % 2 != 0) & (prime % 3 != 0)])   # return numbers\n",
        "\n",
        "# when we work with boolean values we should use ( and => & , or => | , not => ~)\n"
      ],
      "metadata": {
        "colab": {
          "base_uri": "https://localhost:8080/"
        },
        "id": "WTazrVxuEYvv",
        "outputId": "306a8e52-075b-4412-c5f8-6b64d6f61d81"
      },
      "execution_count": null,
      "outputs": [
        {
          "output_type": "stream",
          "name": "stdout",
          "text": [
            "[[15 43 41 90]\n",
            " [56  2 82 70]\n",
            " [ 4 79 66 55]\n",
            " [70 22 83  3]\n",
            " [90 71 61 11]]\n",
            "========== Prime numbers in true and false ==========\n",
            "[[False  True  True False]\n",
            " [False False False False]\n",
            " [False  True False  True]\n",
            " [False False  True False]\n",
            " [False  True  True  True]]\n",
            "========== Prime numbers ==========\n",
            "[43 41 79 55 83 71 61 11]\n"
          ]
        }
      ]
    },
    {
      "cell_type": "markdown",
      "source": [
        "## Broadcasting\n",
        "* The term broadcasting describes how NumPy treats arrays with different shapes during arithmetic operations.\n",
        "* The smaller array is \"broadcast\" across the larger array so that they have compatible shapes."
      ],
      "metadata": {
        "id": "4i3y79SHa08U"
      }
    },
    {
      "cell_type": "markdown",
      "source": [
        "### Broadcasting Rules\n",
        "\n",
        "1. Make the two arrays have the same number of dimensions.\n",
        "\n",
        "* If the numberrs  of dimensions of the  two arrays do not match, dimensions with size 1 are stretched to the size of the other array.\n",
        "\n",
        "2. Make each dimension of the two arrays the same size.\n",
        "\n",
        "* If the size of each dimension of the two arrays don't match, dimensions with size 1 are stretched to the size of the other array.\n",
        "* If there is a dimensions whiose size is not 1 in either of the of the two arrays, it cannot be broadcasted, and an error is raised.\n",
        "\n",
        "\n",
        "![02.05-broadcasting.png](data:image/png;base64,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)\n"
      ],
      "metadata": {
        "id": "fOBd7WO6eLOM"
      }
    },
    {
      "cell_type": "code",
      "source": [
        "# Simple Example of broadcasting\n",
        "\n",
        "import numpy as np\n",
        "Bro_1=np.array([[1,2,3],[4,5,6]])\n",
        "Bro_2=np.array([10,20,30])\n",
        "print(Bro_1 + Bro_2)     # Addition b/w unsized array"
      ],
      "metadata": {
        "colab": {
          "base_uri": "https://localhost:8080/"
        },
        "id": "L5Q8K8wndeQ2",
        "outputId": "2ef8857b-fe19-4d4c-eff6-e92d9d184ea0"
      },
      "execution_count": null,
      "outputs": [
        {
          "output_type": "stream",
          "name": "stdout",
          "text": [
            "[[11 22 33]\n",
            " [14 25 36]]\n"
          ]
        }
      ]
    },
    {
      "cell_type": "markdown",
      "source": [
        "## Working with mathematical formulas"
      ],
      "metadata": {
        "id": "voYh78QPqARx"
      }
    },
    {
      "cell_type": "markdown",
      "source": [
        "### Sigmoid math"
      ],
      "metadata": {
        "id": "Vnc-z1bMp27A"
      }
    },
    {
      "cell_type": "code",
      "source": [
        "# Sigmoid\n",
        "\n",
        "import numpy as np\n",
        "a=np.arange(10)\n",
        "\n",
        "def sigmoid(x):\n",
        "  return 1/(1+np.exp(-x))   # this is the formula\n",
        "\n",
        "a=np.arange(10)\n",
        "print(sigmoid(a))"
      ],
      "metadata": {
        "colab": {
          "base_uri": "https://localhost:8080/"
        },
        "id": "dPY7XoqodeUo",
        "outputId": "b9071a82-f60f-49c7-aeeb-8ea614a6a311"
      },
      "execution_count": null,
      "outputs": [
        {
          "output_type": "stream",
          "name": "stdout",
          "text": [
            "[0.5        0.73105858 0.88079708 0.95257413 0.98201379 0.99330715\n",
            " 0.99752738 0.99908895 0.99966465 0.99987661]\n"
          ]
        }
      ]
    },
    {
      "cell_type": "markdown",
      "source": [
        "### Mean squared error math"
      ],
      "metadata": {
        "id": "eqkW6gqmp-cS"
      }
    },
    {
      "cell_type": "code",
      "source": [
        "# Mean squared error\n",
        "\n",
        "import numpy as np\n",
        "actual=np.random.randint(1,100,25)\n",
        "predicted=np.random.randint(1,100,25)\n",
        "\n",
        "# formula\n",
        "def demo(x,y):\n",
        "  return np.mean((x-y)**2)   # this is the formula\n",
        "\n",
        "demo(actual,predicted)"
      ],
      "metadata": {
        "colab": {
          "base_uri": "https://localhost:8080/"
        },
        "id": "jxvPSbaSqISR",
        "outputId": "c847b3bb-5134-4b18-ca8a-105c9725bc7b"
      },
      "execution_count": null,
      "outputs": [
        {
          "output_type": "execute_result",
          "data": {
            "text/plain": [
              "1145.64"
            ]
          },
          "metadata": {},
          "execution_count": 5
        }
      ]
    },
    {
      "cell_type": "code",
      "source": [],
      "metadata": {
        "id": "4bXIU7s7tByK"
      },
      "execution_count": null,
      "outputs": []
    },
    {
      "cell_type": "markdown",
      "source": [
        "### Binary cross entropy math"
      ],
      "metadata": {
        "id": "nqFggM35qFLF"
      }
    },
    {
      "cell_type": "code",
      "source": [],
      "metadata": {
        "id": "WzU7ytgQqIUP"
      },
      "execution_count": null,
      "outputs": []
    },
    {
      "cell_type": "code",
      "source": [],
      "metadata": {
        "id": "lbm0zAmJqIXo"
      },
      "execution_count": null,
      "outputs": []
    },
    {
      "cell_type": "markdown",
      "source": [
        "### Categorical cross entropy math"
      ],
      "metadata": {
        "id": "DYsnk-0CqLIv"
      }
    },
    {
      "cell_type": "code",
      "source": [],
      "metadata": {
        "id": "nsjCu6twqSAg"
      },
      "execution_count": null,
      "outputs": []
    },
    {
      "cell_type": "code",
      "source": [],
      "metadata": {
        "id": "jfz2zUikqR9Y"
      },
      "execution_count": null,
      "outputs": []
    },
    {
      "cell_type": "markdown",
      "source": [
        "## Working with missing values"
      ],
      "metadata": {
        "id": "r6e8lnwxqIwt"
      }
    },
    {
      "cell_type": "code",
      "source": [
        "# Example for missing values  ==> np.nan\n",
        "\n",
        "import numpy as np\n",
        "num=np.array([1,2,3,np.nan,5,6,np.nan,8,9])\n",
        "print(num)\n",
        "print(\"========== Boolean indexing ==========\")\n",
        "print(np.isnan(num))     # returning nan with true non nan false\n",
        "print(\"========== No nan values ==========\")\n",
        "print(num[~(np.isnan(num))])   # return the non nan values"
      ],
      "metadata": {
        "colab": {
          "base_uri": "https://localhost:8080/"
        },
        "id": "zjZMTaetqNlw",
        "outputId": "bf9b43a9-3c0e-4915-c5e1-bbee0a2b411b"
      },
      "execution_count": null,
      "outputs": [
        {
          "output_type": "stream",
          "name": "stdout",
          "text": [
            "[ 1.  2.  3. nan  5.  6. nan  8.  9.]\n",
            "========== Boolean indexing ==========\n",
            "[False False False  True False False  True False False]\n",
            "========== No nan values ==========\n",
            "[1. 2. 3. 5. 6. 8. 9.]\n"
          ]
        }
      ]
    },
    {
      "cell_type": "code",
      "source": [],
      "metadata": {
        "id": "YN7iQqC5qRRg"
      },
      "execution_count": null,
      "outputs": []
    },
    {
      "cell_type": "markdown",
      "source": [
        "## Ploating Graphs\n",
        "* linspace should be used for graph in numpy."
      ],
      "metadata": {
        "id": "HPCyvuN3qRrZ"
      }
    },
    {
      "cell_type": "markdown",
      "source": [
        "### Straight line method"
      ],
      "metadata": {
        "id": "Mx36zPq0j9M5"
      }
    },
    {
      "cell_type": "code",
      "source": [
        "# Example for straight line\n",
        "\n",
        "import numpy as np\n",
        "import matplotlib.pyplot as plt\n",
        "\n",
        "x=np.arange(1,100,25)\n",
        "y=x\n",
        "\n",
        "# Making plot here\n",
        "plt.plot(x,y)\n",
        "plt.grid()     # It is used to draw the graph behind the line\n"
      ],
      "metadata": {
        "colab": {
          "base_uri": "https://localhost:8080/",
          "height": 265
        },
        "id": "jG9i-KCJqUwh",
        "outputId": "0d6a2bb9-ee44-4ae0-d82a-e31b773faa7b"
      },
      "execution_count": null,
      "outputs": [
        {
          "output_type": "display_data",
          "data": {
            "text/plain": [
              "<Figure size 432x288 with 1 Axes>"
            ],
            "image/png": "[encoded data removed]"
          },
          "metadata": {
            "needs_background": "light"
          }
        }
      ]
    },
    {
      "cell_type": "markdown",
      "source": [
        "### Parabola method"
      ],
      "metadata": {
        "id": "XsGOVg0okCBt"
      }
    },
    {
      "cell_type": "code",
      "source": [
        "# Example for Parabola\n",
        "\n",
        "import numpy as np\n",
        "import matplotlib.pyplot as plt\n",
        "\n",
        "x=np.linspace(-10,10,50)\n",
        "y=x**2\n",
        "\n",
        "# Making plot here\n",
        "print(plt.plot(x,y))\n",
        "print(plt.grid(color=\"black\"))"
      ],
      "metadata": {
        "colab": {
          "base_uri": "https://localhost:8080/",
          "height": 300
        },
        "id": "ctapvaWeixJn",
        "outputId": "5b23af22-6791-4103-a901-91932912a1e9"
      },
      "execution_count": null,
      "outputs": [
        {
          "output_type": "stream",
          "name": "stdout",
          "text": [
            "[<matplotlib.lines.Line2D object at 0x7f060f0ca9a0>]\n",
            "None\n"
          ]
        },
        {
          "output_type": "display_data",
          "data": {
            "text/plain": [
              "<Figure size 432x288 with 1 Axes>"
            ],
            "image/png": "[encoded data removed]"
          },
          "metadata": {
            "needs_background": "light"
          }
        }
      ]
    },
    {
      "cell_type": "markdown",
      "source": [
        "### sin(x) method"
      ],
      "metadata": {
        "id": "h01JgW8MkF6Q"
      }
    },
    {
      "cell_type": "code",
      "source": [
        "# Example for sin\n",
        "\n",
        "import numpy as np\n",
        "import matplotlib.pyplot as plt\n",
        "\n",
        "x=np.linspace(-10,10,50)\n",
        "y=np.sin(x)\n",
        "\n",
        "# Making plot here\n",
        "plt.plot(x,y)\n",
        "print(plt.grid(color=\"black\"))"
      ],
      "metadata": {
        "colab": {
          "base_uri": "https://localhost:8080/",
          "height": 282
        },
        "id": "3801acR1jwH4",
        "outputId": "2f8187f7-8a52-49bf-8ace-8ab6aec14f09"
      },
      "execution_count": null,
      "outputs": [
        {
          "output_type": "execute_result",
          "data": {
            "text/plain": [
              "[<matplotlib.lines.Line2D at 0x7f060e3ecc40>]"
            ]
          },
          "metadata": {},
          "execution_count": 10
        },
        {
          "output_type": "display_data",
          "data": {
            "text/plain": [
              "<Figure size 432x288 with 1 Axes>"
            ],
            "image/png": "[encoded data removed]"
          },
          "metadata": {
            "needs_background": "light"
          }
        }
      ]
    },
    {
      "cell_type": "markdown",
      "source": [
        "### cos(x) method"
      ],
      "metadata": {
        "id": "_ikEiONBl-Tm"
      }
    },
    {
      "cell_type": "code",
      "source": [
        "# Example for cos(x)\n",
        "\n",
        "import numpy as np\n",
        "import matplotlib.pyplot as plt\n",
        "\n",
        "x=np.linspace(-10,10,100)\n",
        "y=np.cos(x)\n",
        "\n",
        "# Graph here\n",
        "plt.plot(x,y)\n",
        "print(plt.grid(color=\"grey\"))"
      ],
      "metadata": {
        "colab": {
          "base_uri": "https://localhost:8080/",
          "height": 282
        },
        "id": "BAuXLEtlkONh",
        "outputId": "295b7adc-aa33-40f4-c154-15c6713e7c77"
      },
      "execution_count": null,
      "outputs": [
        {
          "output_type": "stream",
          "name": "stdout",
          "text": [
            "None\n"
          ]
        },
        {
          "output_type": "display_data",
          "data": {
            "text/plain": [
              "<Figure size 432x288 with 1 Axes>"
            ],
            "image/png": "[encoded data removed]"
          },
          "metadata": {
            "needs_background": "light"
          }
        }
      ]
    },
    {
      "cell_type": "markdown",
      "source": [
        "### log(x) method"
      ],
      "metadata": {
        "id": "2TJwMrlqm2iu"
      }
    },
    {
      "cell_type": "code",
      "source": [
        "# Example for log\n",
        "\n",
        "import numpy as np\n",
        "import matplotlib.pyplot as plt\n",
        "\n",
        "x=np.arange(1,100)\n",
        "y=x * np.log(x)\n",
        "\n",
        "# Making plot here\n",
        "plt.plot(x,y,color=\"r\")\n",
        "print(plt.grid(color=\"black\"))"
      ],
      "metadata": {
        "colab": {
          "base_uri": "https://localhost:8080/",
          "height": 282
        },
        "id": "BYn0RrTSm7w5",
        "outputId": "ae9b8cfd-c82c-40c4-fbca-86ec7e6588a4"
      },
      "execution_count": null,
      "outputs": [
        {
          "output_type": "stream",
          "name": "stdout",
          "text": [
            "None\n"
          ]
        },
        {
          "output_type": "display_data",
          "data": {
            "text/plain": [
              "<Figure size 432x288 with 1 Axes>"
            ],
            "image/png": "[encoded data removed]"
          },
          "metadata": {
            "needs_background": "light"
          }
        }
      ]
    },
    {
      "cell_type": "markdown",
      "source": [
        "### Sigmoid method"
      ],
      "metadata": {
        "id": "l6G15CKrmQuD"
      }
    },
    {
      "cell_type": "code",
      "source": [
        "# Example for sigmoid\n",
        "\n",
        "import numpy as np\n",
        "import matplotlib.pyplot as plt\n",
        "\n",
        "x=np.linspace(-10,10,100)\n",
        "y=1/(1+np.exp(-x))\n",
        "\n",
        "# Plot here\n",
        "plt.plot(x,y)\n",
        "plt.grid(color=\"gray\")"
      ],
      "metadata": {
        "colab": {
          "base_uri": "https://localhost:8080/",
          "height": 265
        },
        "id": "yroOFBhVkjWj",
        "outputId": "92a4302e-bfda-4989-cdca-481a0b174222"
      },
      "execution_count": null,
      "outputs": [
        {
          "output_type": "display_data",
          "data": {
            "text/plain": [
              "<Figure size 432x288 with 1 Axes>"
            ],
            "image/png": "[encoded data removed]"
          },
          "metadata": {
            "needs_background": "light"
          }
        }
      ]
    },
    {
      "cell_type": "markdown",
      "source": [
        "#  Numpy functions"
      ],
      "metadata": {
        "id": "fuoLwJY60bIt"
      }
    },
    {
      "cell_type": "markdown",
      "source": [
        "### np.sort\n",
        "Return a sorted copy of an array.\n",
        "* Sorting in 2d or 3d array is done row wise.\n",
        "* Use axis=0 for sorting column wise."
      ],
      "metadata": {
        "id": "05edwFDH0_6g"
      }
    },
    {
      "cell_type": "code",
      "source": [
        "# Sort example with 1d array\n",
        "\n",
        "import numpy as np\n",
        "s=np.random.randint(1,100,25)\n",
        "print(s)\n",
        "print(\"========== After Sorting ==========\")\n",
        "# sorting here\n",
        "print(np.sort(s))"
      ],
      "metadata": {
        "colab": {
          "base_uri": "https://localhost:8080/"
        },
        "id": "BAW9XjbnmwmR",
        "outputId": "37c73ada-22c8-466e-ba03-9099d038d4e7"
      },
      "execution_count": null,
      "outputs": [
        {
          "output_type": "stream",
          "name": "stdout",
          "text": [
            "[59 80  7 68 73 93 64 18 43 30 92 53 87 84 49 40 96 49 71 65  4  1 74 52\n",
            " 35]\n",
            "========== After Sorting ==========\n",
            "[ 1  4  7 18 30 35 40 43 49 49 52 53 59 64 65 68 71 73 74 80 84 87 92 93\n",
            " 96]\n"
          ]
        }
      ]
    },
    {
      "cell_type": "code",
      "source": [
        "# Sort example with 2d array by-default in rows\n",
        "\n",
        "import numpy as np\n",
        "a=np.random.randint(1,100,24).reshape(6,4)\n",
        "print(a)\n",
        "print(\"========== After Sorting ==========\")\n",
        "# Sorting here\n",
        "print(np.sort(a))     # sorting is done row wise look at answer below\n"
      ],
      "metadata": {
        "colab": {
          "base_uri": "https://localhost:8080/"
        },
        "id": "NWnDh7ZpuNXe",
        "outputId": "9de5752a-f5ce-4d1a-ae87-bc63ca648a10"
      },
      "execution_count": null,
      "outputs": [
        {
          "output_type": "stream",
          "name": "stdout",
          "text": [
            "[[45 29  7 62]\n",
            " [60 84 12 19]\n",
            " [84 33 76 95]\n",
            " [80 26  2 78]\n",
            " [35 22 91 61]\n",
            " [10 87 82  2]]\n",
            "========== After Sorting ==========\n",
            "[[ 7 29 45 62]\n",
            " [12 19 60 84]\n",
            " [33 76 84 95]\n",
            " [ 2 26 78 80]\n",
            " [22 35 61 91]\n",
            " [ 2 10 82 87]]\n"
          ]
        }
      ]
    },
    {
      "cell_type": "code",
      "source": [
        "# Sort example with 2d array in rows\n",
        "\n",
        "import numpy as np\n",
        "x=np.random.randint(1,100,24).reshape(6,4)\n",
        "print(x)\n",
        "print(\"========== After Sorting ==========\")\n",
        "# Sorting here\n",
        "print(np.sort(x,axis=0))     # sorting is done column wise look at answer below\n"
      ],
      "metadata": {
        "colab": {
          "base_uri": "https://localhost:8080/"
        },
        "id": "FW0mNtWx3uwQ",
        "outputId": "b535c32a-3d56-4c2d-f2bd-e10237bfb18f"
      },
      "execution_count": null,
      "outputs": [
        {
          "output_type": "stream",
          "name": "stdout",
          "text": [
            "[[59 56 52  7]\n",
            " [20 22 49 19]\n",
            " [13 47 81 15]\n",
            " [71 16 11 53]\n",
            " [42 25 47 43]\n",
            " [57 76 67 67]]\n",
            "========== After Sorting ==========\n",
            "[[13 16 11  7]\n",
            " [20 22 47 15]\n",
            " [42 25 49 19]\n",
            " [57 47 52 43]\n",
            " [59 56 67 53]\n",
            " [71 76 81 67]]\n"
          ]
        }
      ]
    },
    {
      "cell_type": "markdown",
      "source": [
        "### np.append\n",
        "The np.append() appends values along hte mentioned axis at the  end of the array."
      ],
      "metadata": {
        "id": "4uObUvbM3N2k"
      }
    },
    {
      "cell_type": "code",
      "source": [
        "# Append example with 1d array\n",
        "\n",
        "import numpy as np\n",
        "num=np.random.randint(1,50,20)\n",
        "print(num)\n",
        "\n",
        "print(\"##### Append function #####\")\n",
        "print(np.append(num,500))    # Append function\n"
      ],
      "metadata": {
        "colab": {
          "base_uri": "https://localhost:8080/"
        },
        "id": "MHrbP2DS2Lfg",
        "outputId": "243934af-d49f-4f4f-8745-fc4d353e9387"
      },
      "execution_count": null,
      "outputs": [
        {
          "output_type": "stream",
          "name": "stdout",
          "text": [
            "[19 22 35  3 41  5 24 46  2 40 31 38 31 10  1  5  7  2 35 40]\n",
            "##### Append function #####\n",
            "[ 19  22  35   3  41   5  24  46   2  40  31  38  31  10   1   5   7   2\n",
            "  35  40 500]\n"
          ]
        }
      ]
    },
    {
      "cell_type": "code",
      "source": [
        "# Append example with 2d array\n",
        "\n",
        "import numpy as np\n",
        "App=np.random.randint(1,50,20).reshape(5,4)\n",
        "print(App)\n",
        "\n",
        "print(\"##### Append function #####\")\n",
        "print(np.append(App,np.ones((App.shape[0],1)),axis=1))    # make one more column in the existing 2d array\n"
      ],
      "metadata": {
        "colab": {
          "base_uri": "https://localhost:8080/"
        },
        "id": "ls6S6ctQ9rc_",
        "outputId": "8d56f038-1780-418d-ab8d-6154a8d78ffe"
      },
      "execution_count": null,
      "outputs": [
        {
          "output_type": "stream",
          "name": "stdout",
          "text": [
            "[[ 2 19  6 31]\n",
            " [27 41 24 37]\n",
            " [ 6 15  4  7]\n",
            " [25  4 40 31]\n",
            " [41 33 17 47]]\n",
            "##### Append function #####\n",
            "[[ 2. 19.  6. 31.  1.]\n",
            " [27. 41. 24. 37.  1.]\n",
            " [ 6. 15.  4.  7.  1.]\n",
            " [25.  4. 40. 31.  1.]\n",
            " [41. 33. 17. 47.  1.]]\n"
          ]
        }
      ]
    },
    {
      "cell_type": "markdown",
      "source": [
        "### np.concatenate\n",
        "np.concatenate() function concatenate a sequence of arrays along an existing axis.\n",
        "* Replacement of hstack and vstack"
      ],
      "metadata": {
        "id": "61VRFrFC9ZrT"
      }
    },
    {
      "cell_type": "code",
      "source": [
        "# Concatenate Example\n",
        "\n",
        "import numpy as np\n",
        "x=np.random.randint(1,20,9).reshape(3,3)\n",
        "y=np.random.randint(20,40,9).reshape(3,3)\n",
        "\n",
        "print(\"----------- 1st Array ----------\")\n",
        "print(x)\n",
        "\n",
        "print(\"----------- 2nd Array ----------\")\n",
        "print(y)\n",
        "\n",
        "print(\"========== Concatenation by row wise ==========\")\n",
        "print(np.concatenate((x,y),axis=1))   # work as vstack and hstack\n",
        "\n",
        "print(\"========== Concatenation by coulmn wise ==========\")\n",
        "print(np.concatenate((x,y),axis=0))   # without axis=0 same result will be returned\n"
      ],
      "metadata": {
        "colab": {
          "base_uri": "https://localhost:8080/"
        },
        "id": "f0kjdcag5i6S",
        "outputId": "52bef687-b1eb-4f2a-a4e1-9ebb59c636da"
      },
      "execution_count": null,
      "outputs": [
        {
          "output_type": "stream",
          "name": "stdout",
          "text": [
            "----------- 1st Array ----------\n",
            "[[14  5 16]\n",
            " [ 3  1 16]\n",
            " [14 15 12]]\n",
            "----------- 2nd Array ----------\n",
            "[[34 33 38]\n",
            " [21 22 38]\n",
            " [24 25 39]]\n",
            "========== Concatenation by row wise ==========\n",
            "[[14  5 16 34 33 38]\n",
            " [ 3  1 16 21 22 38]\n",
            " [14 15 12 24 25 39]]\n",
            "========== Concatenation by coulmn wise ==========\n",
            "[[14  5 16]\n",
            " [ 3  1 16]\n",
            " [14 15 12]\n",
            " [34 33 38]\n",
            " [21 22 38]\n",
            " [24 25 39]]\n"
          ]
        }
      ]
    },
    {
      "cell_type": "markdown",
      "source": [
        "### np.unique\n",
        "with the help of np.unique() method,we can get the unique values from an array gives as parameter in np.unique() method."
      ],
      "metadata": {
        "id": "O2qh83U8Bx7f"
      }
    },
    {
      "cell_type": "code",
      "source": [
        "# Unique Example\n",
        "\n",
        "import numpy as np\n",
        "U=np.random.randint(1,25,56).reshape(7,8)\n",
        "print(U)\n",
        "\n",
        "print(\"********** Unique Method ********** \")\n",
        "print(np.unique(U))   # return all the unique elements from the array\n"
      ],
      "metadata": {
        "colab": {
          "base_uri": "https://localhost:8080/"
        },
        "id": "9FPxf-ChAH7e",
        "outputId": "d5f5b0fe-a261-4266-9652-252c9f669aa2"
      },
      "execution_count": null,
      "outputs": [
        {
          "output_type": "stream",
          "name": "stdout",
          "text": [
            "[[15  5  2  1  8  9 15  2]\n",
            " [13 14 13 23  9  9 24  9]\n",
            " [ 9 10 16  1  9 13  3  1]\n",
            " [13  4  5 19 22 21  1 19]\n",
            " [24 20 21 24  2  1  6  5]\n",
            " [15 11 12 10 23  5 21  4]\n",
            " [ 7 19  3  4  9  6  8  9]]\n",
            "********** Unique Method ********** \n",
            "[ 1  2  3  4  5  6  7  8  9 10 11 12 13 14 15 16 19 20 21 22 23 24]\n"
          ]
        }
      ]
    },
    {
      "cell_type": "markdown",
      "source": [
        "### np.expand_dims\n",
        "with the help of np.expand_dims() method,we can get the expanded dimensions of an  array."
      ],
      "metadata": {
        "id": "ddtwh-xAEZ2g"
      }
    },
    {
      "cell_type": "code",
      "source": [
        "# Expand_dims Example\n",
        "\n",
        "import numpy as np\n",
        "U=np.random.randint(1,25,18).reshape(3,6)\n",
        "print(U)\n",
        "\n",
        "print(\"========== Expand Method ==========\")\n",
        "print(np.expand_dims(U,axis=1))    # can convert 1d array into 2d and 2d into 3d array"
      ],
      "metadata": {
        "colab": {
          "base_uri": "https://localhost:8080/"
        },
        "id": "qsUBeIvoDGGX",
        "outputId": "73714043-db6f-495f-cc33-f3d9fc5a9576"
      },
      "execution_count": null,
      "outputs": [
        {
          "output_type": "stream",
          "name": "stdout",
          "text": [
            "[[ 7 16 24  4 13 17]\n",
            " [20  3 10 17  8 18]\n",
            " [18 22 14 14 19 16]]\n",
            "========== Expand Method ==========\n",
            "[[[ 7 16 24  4 13 17]]\n",
            "\n",
            " [[20  3 10 17  8 18]]\n",
            "\n",
            " [[18 22 14 14 19 16]]]\n"
          ]
        }
      ]
    },
    {
      "cell_type": "markdown",
      "source": [
        "### np.where\n",
        "The np.where() function returns the indices of elements in an input array where the given condition is satisfies."
      ],
      "metadata": {
        "id": "ODEwWEESEyEl"
      }
    },
    {
      "cell_type": "code",
      "source": [
        "# where function\n",
        "\n",
        "import numpy as np\n",
        "w=np.random.randint(1,100,10)\n",
        "print(w)\n",
        "\n",
        "print(\"________________ Where function _______________\")\n",
        "print(np.where(w > 50))    # return the index position which value is greater than 50\n"
      ],
      "metadata": {
        "colab": {
          "base_uri": "https://localhost:8080/"
        },
        "id": "m50rlgvlEv9R",
        "outputId": "af72c24c-1ce4-4f95-e25f-1e4702c31979"
      },
      "execution_count": null,
      "outputs": [
        {
          "output_type": "stream",
          "name": "stdout",
          "text": [
            "[25 28 74 46 18 87  3 67 92 58]\n",
            "________________ Where function _______________\n",
            "(array([2, 5, 7, 8, 9]),)\n"
          ]
        }
      ]
    },
    {
      "cell_type": "code",
      "source": [
        "# Replacing values with where function\n",
        "\n",
        "import numpy as np\n",
        "rep=np.random.randint(1,100,15)\n",
        "print(rep)\n",
        "\n",
        "print(\"---------- Replace values from where ----------\")\n",
        "print(np.where(rep>58,0,rep))     # where(condition,true,false)"
      ],
      "metadata": {
        "colab": {
          "base_uri": "https://localhost:8080/"
        },
        "id": "AzMGUv56Ev6t",
        "outputId": "39dc9531-efcc-4f6c-b3fe-ac6c748c523f"
      },
      "execution_count": null,
      "outputs": [
        {
          "output_type": "stream",
          "name": "stdout",
          "text": [
            "[62 93  1 14 30 85  3 21 56 79 88 11 59 54 45]\n",
            "---------- Replace values from where ----------\n",
            "[ 0  0  1 14 30  0  3 21 56  0  0 11  0 54 45]\n"
          ]
        }
      ]
    },
    {
      "cell_type": "code",
      "source": [
        "# Replacing even numbers with zero\n",
        "\n",
        "import numpy as np\n",
        "check=np.random.randint(1,100,15)\n",
        "print(check)\n",
        "\n",
        "print(\"---------- Replace values from where ----------\")\n",
        "print(np.where(check % 2 == 0,0,check))      # where(condition,true,false)"
      ],
      "metadata": {
        "colab": {
          "base_uri": "https://localhost:8080/"
        },
        "id": "skGTCz2gZ0Yh",
        "outputId": "91841c84-2835-4f9a-bb09-5b95a90ceee2"
      },
      "execution_count": null,
      "outputs": [
        {
          "output_type": "stream",
          "name": "stdout",
          "text": [
            "[61 39 85  1 51 76 21 24 33 27 42 92  7 96 84]\n",
            "---------- Replace values from where ----------\n",
            "[61 39 85  1 51  0 21  0 33 27  0  0  7  0  0]\n"
          ]
        }
      ]
    },
    {
      "cell_type": "markdown",
      "source": [
        "### np.argmax\n",
        "The np.argmax() function returns indices of the max element of the array in a particular axis."
      ],
      "metadata": {
        "id": "6yijCOfOEvZq"
      }
    },
    {
      "cell_type": "code",
      "source": [
        "# Example to find maximum value index position in 1d array\n",
        "\n",
        "import numpy as np\n",
        "arg=np.random.randint(1,100,20)\n",
        "print(arg)\n",
        "\n",
        "print(\"---------- argmax method ----------\")\n",
        "print(np.argmax(arg))\n"
      ],
      "metadata": {
        "colab": {
          "base_uri": "https://localhost:8080/"
        },
        "id": "OZ7exXnMaRVH",
        "outputId": "108c2a51-1c85-4d57-f873-26b5da082b0b"
      },
      "execution_count": null,
      "outputs": [
        {
          "output_type": "stream",
          "name": "stdout",
          "text": [
            "[68 87 60 90 53 93 85 73 41 53  3 13 66 64 96 48 85 17 79 84]\n",
            "---------- argmax method ----------\n",
            "14\n"
          ]
        }
      ]
    },
    {
      "cell_type": "code",
      "source": [
        "# Example to find maximum value index position in 2d array\n",
        "\n",
        "import numpy as np\n",
        "arg=np.random.randint(1,100,20).reshape(5,4)\n",
        "print(arg)\n",
        "\n",
        "print(\"---------- argmax method row wise ----------\")\n",
        "print(np.argmax(arg,axis=0))   # maximum index value column wise\n",
        "\n",
        "print(\"---------- argmax method column wise ----------\")\n",
        "print(np.argmax(arg,axis=1))   # maximum index value row wise"
      ],
      "metadata": {
        "colab": {
          "base_uri": "https://localhost:8080/"
        },
        "id": "yQAGm_KOdDO3",
        "outputId": "69f43b9a-3975-4b89-8b19-2e552d983263"
      },
      "execution_count": null,
      "outputs": [
        {
          "output_type": "stream",
          "name": "stdout",
          "text": [
            "[[92 32 66 17]\n",
            " [13 91 79 11]\n",
            " [90 33  9 54]\n",
            " [66 26 37 28]\n",
            " [62  8  3 82]]\n",
            "---------- argmax method row wise ----------\n",
            "[0 1 1 4]\n",
            "---------- argmax method column wise ----------\n",
            "[0 1 0 0 3]\n"
          ]
        }
      ]
    },
    {
      "cell_type": "markdown",
      "source": [
        "### np.argmin"
      ],
      "metadata": {
        "id": "M_L7XyOFztM_"
      }
    },
    {
      "cell_type": "code",
      "source": [
        "# Example find minimum value index position in 1d array\n",
        "\n",
        "import numpy as np\n",
        "min=np.random.randint(1,100,20)\n",
        "print(min)\n",
        "\n",
        "print(\"========== argmin function ==========\")\n",
        "print(np.argmin(min))    # returning value is the index position\n"
      ],
      "metadata": {
        "colab": {
          "base_uri": "https://localhost:8080/"
        },
        "id": "82xHTWFxzww9",
        "outputId": "1cc1957b-9fa1-46db-afc9-13b72473148e"
      },
      "execution_count": null,
      "outputs": [
        {
          "output_type": "stream",
          "name": "stdout",
          "text": [
            "[ 2 76 34 45 80 19 93 60 74 83 10 15 25 72 41 12 71 12 52 62]\n",
            "========== argmin function ==========\n",
            "0\n"
          ]
        }
      ]
    },
    {
      "cell_type": "code",
      "source": [
        "# Example to find minimum value index position in 2d array\n",
        "\n",
        "import numpy as np\n",
        "min=np.random.randint(1,100,20).reshape(5,4)\n",
        "print(min)\n",
        "\n",
        "print(\"========== argmin function in 2d array ==========\")\n",
        "print(np.argmin(min,axis=0))   # returnin values are the index position\n"
      ],
      "metadata": {
        "colab": {
          "base_uri": "https://localhost:8080/"
        },
        "id": "i-Z36ud-zxCm",
        "outputId": "35799ad3-864d-4796-9b2a-5416147f4549"
      },
      "execution_count": null,
      "outputs": [
        {
          "output_type": "stream",
          "name": "stdout",
          "text": [
            "[[25 22 40 99]\n",
            " [15 32 82 76]\n",
            " [25 75 27 65]\n",
            " [72 74 83 62]\n",
            " [ 8 24 22  1]]\n",
            "========== argmin function in 2d array ==========\n",
            "[4 0 4 4]\n"
          ]
        }
      ]
    },
    {
      "cell_type": "markdown",
      "source": [
        "### np.cumsum\n",
        "the np.cumsum() function is used when we want to compute the cumulative sum of array elements over a given axis.\n",
        "\n",
        "* if we don't mention axis in 2d or 3d array then it will convert 2d and 3d array in 1d array."
      ],
      "metadata": {
        "id": "8kU4IS-XboAp"
      }
    },
    {
      "cell_type": "code",
      "source": [
        "# Example of cumsum in 1d array  --> addtion of elements\n",
        "\n",
        "import numpy as np\n",
        "cum=np.random.randint(1,40,18)\n",
        "print(cum)\n",
        "\n",
        "print(\"======== cumsum function ========\")\n",
        "print(np.cumsum(cum))  # addition of all elements without axis\n"
      ],
      "metadata": {
        "colab": {
          "base_uri": "https://localhost:8080/"
        },
        "id": "AzJqgk_CaRXs",
        "outputId": "d53f3f0a-51b3-4c93-b3ae-46f1e151257c"
      },
      "execution_count": null,
      "outputs": [
        {
          "output_type": "stream",
          "name": "stdout",
          "text": [
            "[ 4 20 27  7 25 36 12 18 23 24 25 17 19 31 32  4 16 12]\n",
            "======== cumsum function ========\n",
            "[  4  24  51  58  83 119 131 149 172 196 221 238 257 288 320 324 340 352]\n"
          ]
        }
      ]
    },
    {
      "cell_type": "code",
      "source": [
        "# Example of cumsum in 2d array\n",
        "\n",
        "import numpy as np\n",
        "sum=np.random.randint(50,200,16).reshape(4,4)\n",
        "print(sum)\n",
        "\n",
        "print(\"======== cumsum function column wise ========\")\n",
        "print(np.cumsum(sum,axis=0))  # addition of all elements column wise\n",
        "\n",
        "print(\"======== cumsum function row wise ========\")\n",
        "print(np.cumsum(sum,axis=1))  # addition of all elements row wise"
      ],
      "metadata": {
        "colab": {
          "base_uri": "https://localhost:8080/"
        },
        "id": "ptzHi9-faRa5",
        "outputId": "d5f660e5-6444-45de-eee2-ecc0cc2e5aff"
      },
      "execution_count": null,
      "outputs": [
        {
          "output_type": "stream",
          "name": "stdout",
          "text": [
            "[[151 117 152  66]\n",
            " [198 131 186 143]\n",
            " [128 120 116 158]\n",
            " [ 88 139 198 105]]\n",
            "======== cumsum function column wise ========\n",
            "[[151 117 152  66]\n",
            " [349 248 338 209]\n",
            " [477 368 454 367]\n",
            " [565 507 652 472]]\n",
            "======== cumsum function row wise ========\n",
            "[[151 268 420 486]\n",
            " [198 329 515 658]\n",
            " [128 248 364 522]\n",
            " [ 88 227 425 530]]\n"
          ]
        }
      ]
    },
    {
      "cell_type": "markdown",
      "source": [
        "### np.cumprod\n",
        "the np.cumprod() function is used when we want to compute the cumulative mul of array elements over a given axis."
      ],
      "metadata": {
        "id": "L7ArspAfvCeT"
      }
    },
    {
      "cell_type": "code",
      "source": [
        "# Example of cumprod in 1d array  ==> multiplication of elements\n",
        "\n",
        "import numpy as np\n",
        "prod=np.random.randint(1,20,5)\n",
        "print(prod)\n",
        "\n",
        "print('======== cumprod function ========')\n",
        "print(np.cumprod(prod))   # multiplication of all elements\n"
      ],
      "metadata": {
        "colab": {
          "base_uri": "https://localhost:8080/"
        },
        "id": "xONd8Srptexd",
        "outputId": "a5e5545c-ae89-4aec-c426-4a66eebcdb50"
      },
      "execution_count": null,
      "outputs": [
        {
          "output_type": "stream",
          "name": "stdout",
          "text": [
            "[14  7  9 17 13]\n",
            "======== cumprod function ========\n",
            "[    14     98    882  14994 194922]\n"
          ]
        }
      ]
    },
    {
      "cell_type": "code",
      "source": [
        "# Example of cumprod in 2d array\n",
        "\n",
        "import numpy as np\n",
        "prod=np.random.randint(1,10,9).reshape(3,3)\n",
        "print(prod)\n",
        "\n",
        "print(\"========== cumprod function column wise ==========\")\n",
        "print(np.cumprod(prod,axis=0))     # multiply all elements cf columns\n",
        "\n",
        "print(\"========== cumprod function row wise ==========\")\n",
        "print(np.cumprod(prod,axis=1))     # multiply all elements of rows\n"
      ],
      "metadata": {
        "colab": {
          "base_uri": "https://localhost:8080/"
        },
        "id": "W5SocEKXte0T",
        "outputId": "380a76b5-6f0e-4468-fc9e-504a5999cd8c"
      },
      "execution_count": null,
      "outputs": [
        {
          "output_type": "stream",
          "name": "stdout",
          "text": [
            "[[9 7 4]\n",
            " [9 8 1]\n",
            " [8 6 7]]\n",
            "========== cumprod function column wise ==========\n",
            "[[  9   7   4]\n",
            " [ 81  56   4]\n",
            " [648 336  28]]\n",
            "========== cumprod function row wise ==========\n",
            "[[  9  63 252]\n",
            " [  9  72  72]\n",
            " [  8  48 336]]\n"
          ]
        }
      ]
    },
    {
      "cell_type": "markdown",
      "source": [
        "### np.percentile\n",
        "The np.percentile() function used to compute the nth percentile of the given data(array elements) along the specifed axis."
      ],
      "metadata": {
        "id": "-v3ssF6RxY4J"
      }
    },
    {
      "cell_type": "code",
      "source": [
        "# Example for percentile in 1d array\n",
        "\n",
        "import numpy as np\n",
        "per=np.random.randint(1,200,15)\n",
        "print(per)\n",
        "\n",
        "print(\"---------- Percentile function -----------\")\n",
        "print(np.percentile(per,50))   # per is the array name and 50 is the % of percentile\n"
      ],
      "metadata": {
        "colab": {
          "base_uri": "https://localhost:8080/"
        },
        "id": "sfDCipE6te3D",
        "outputId": "648c398e-4e21-48b1-ae63-50e25c56de10"
      },
      "execution_count": null,
      "outputs": [
        {
          "output_type": "stream",
          "name": "stdout",
          "text": [
            "[ 80  76  67 189  54  17  78  42  81  67  92  91  92  37   9]\n",
            "---------- Percentile function -----------\n",
            "76.0\n"
          ]
        }
      ]
    },
    {
      "cell_type": "code",
      "source": [
        "# Example for percentile in 2d arrray\n",
        "\n",
        "import numpy as np\n",
        "per=np.random.randint(10,50,25).reshape(5,5)\n",
        "print(per)\n",
        "\n",
        "print(\"---------- Percentile function column wise ----------\")\n",
        "print(np.percentile(per,75,axis=0))\n",
        "\n",
        "print('---------- Percentile function row wise ----------')\n",
        "print(np.percentile(per,25,axis=1))"
      ],
      "metadata": {
        "colab": {
          "base_uri": "https://localhost:8080/"
        },
        "id": "OI8TlN6Ute6U",
        "outputId": "ceca3cb5-70c2-4259-eab1-d7d06f20ad09"
      },
      "execution_count": null,
      "outputs": [
        {
          "output_type": "stream",
          "name": "stdout",
          "text": [
            "[[34 12 31 22 35]\n",
            " [30 21 45 21 11]\n",
            " [11 26 17 26 35]\n",
            " [48 48 21 35 33]\n",
            " [35 21 28 14 23]]\n",
            "---------- Percentile function column wise ----------\n",
            "[35. 26. 31. 26. 35.]\n",
            "---------- Percentile function row wise ----------\n",
            "[22. 21. 17. 33. 21.]\n"
          ]
        }
      ]
    },
    {
      "cell_type": "markdown",
      "source": [
        "### np.histogram\n",
        "Numpy has a built-in np.histogram() function which represents the frequency of data distribution in the graphical form."
      ],
      "metadata": {
        "id": "BCVAmmWI2Qhq"
      }
    },
    {
      "cell_type": "code",
      "source": [
        "# Example of histogram in 1d array  => No. of elements in given bins\n",
        "\n",
        "import numpy as np\n",
        "his=np.random.randint(1,50,15)\n",
        "print(his)\n",
        "\n",
        "print(\"========== Histogram function ==========\")\n",
        "print(np.histogram(his,bins=[0,15,30,45,60]))   # it tells about no. of elements in given bins\n"
      ],
      "metadata": {
        "id": "67L0AlTh7CbQ",
        "colab": {
          "base_uri": "https://localhost:8080/"
        },
        "outputId": "62a4be81-1ecb-4feb-e91c-53eb98eda475"
      },
      "execution_count": null,
      "outputs": [
        {
          "output_type": "stream",
          "name": "stdout",
          "text": [
            "[33 25 10 33 27 23  8  3 20 41  4 21 49 25 48]\n",
            "========== Histogram function ==========\n",
            "(array([4, 6, 3, 2]), array([ 0, 15, 30, 45, 60]))\n"
          ]
        }
      ]
    },
    {
      "cell_type": "code",
      "source": [
        "# Example of histogram in 2d array\n",
        "\n",
        "import numpy as np\n",
        "his=np.random.randint(1,100,20).reshape(5,4)\n",
        "print(his)\n",
        "\n",
        "print(\"========== Histogram function column wise ==========\")\n",
        "print(np.histogram(his,bins=[0,20,40,60,80,100]))\n",
        "\n",
        "print(\"========== Histogram function row wise ==========\")\n",
        "print(np.histogram(his,bins=[0,20,40,60,80,100]))\n"
      ],
      "metadata": {
        "id": "UeSjS39e5jyc",
        "colab": {
          "base_uri": "https://localhost:8080/"
        },
        "outputId": "f76f6c7f-076b-440e-d471-faaf4cd50e14"
      },
      "execution_count": null,
      "outputs": [
        {
          "output_type": "stream",
          "name": "stdout",
          "text": [
            "[[54 47 92 62]\n",
            " [64 33 88 81]\n",
            " [89 79  8  4]\n",
            " [50 88 76 11]\n",
            " [43 86  1 48]]\n",
            "========== Histogram function column wise ==========\n",
            "(array([4, 1, 5, 4, 6]), array([  0,  20,  40,  60,  80, 100]))\n",
            "========== Histogram function row wise ==========\n",
            "(array([4, 1, 5, 4, 6]), array([  0,  20,  40,  60,  80, 100]))\n"
          ]
        }
      ]
    },
    {
      "cell_type": "markdown",
      "source": [
        "### np.corrcoef\n",
        "Return pearson product-moment correlation coefficients."
      ],
      "metadata": {
        "id": "z8K45K0w7Hn8"
      }
    },
    {
      "cell_type": "code",
      "source": [
        "# Example for correlation between 2 or more arrays\n",
        "\n",
        "import numpy as np\n",
        "salary=np.array([10000,27500,35000,65700,120000])\n",
        "exp=np.array([1,2,5,4,3])\n",
        "\n",
        "print(\"=== Correlation function ===\")\n",
        "print(np.corrcoef(salary,exp))    # correlation of both arrays"
      ],
      "metadata": {
        "id": "JAy9ICtN6gVk",
        "colab": {
          "base_uri": "https://localhost:8080/"
        },
        "outputId": "94324cf8-b7c6-49ce-d906-eafc1f3d9f18"
      },
      "execution_count": null,
      "outputs": [
        {
          "output_type": "stream",
          "name": "stdout",
          "text": [
            "=== Correlation function ===\n",
            "[[1.         0.32283029]\n",
            " [0.32283029 1.        ]]\n"
          ]
        }
      ]
    },
    {
      "cell_type": "markdown",
      "source": [
        "### np.isin\n",
        "With the help of np.isin() method,we can see that one array having values are checked in a different numpy array having different elements with different sizes."
      ],
      "metadata": {
        "id": "xyRHP1eu-QiD"
      }
    },
    {
      "cell_type": "code",
      "source": [
        "# Example of isin  => check whether given no. in given array or not\n",
        "\n",
        "import numpy as np\n",
        "isi=np.random.randint(1,20,13)\n",
        "print(\"Actual data\",isi)\n",
        "\n",
        "print(\"----- isin function -----\")\n",
        "print(np.isin(isi,[4,7]))     # search multiple items in a array\n"
      ],
      "metadata": {
        "id": "eEilo-vY6gZC",
        "colab": {
          "base_uri": "https://localhost:8080/"
        },
        "outputId": "af578e82-47e4-4b23-bb7c-54c714dccc9e"
      },
      "execution_count": null,
      "outputs": [
        {
          "output_type": "stream",
          "name": "stdout",
          "text": [
            "Actual data [ 5  7 11  3 10  7  2  9  4  9 19 10  8]\n",
            "----- isin function -----\n",
            "[False  True False False False  True False False  True False False False\n",
            " False]\n"
          ]
        }
      ]
    },
    {
      "cell_type": "markdown",
      "source": [
        "### np.flip\n",
        "The np.flip() function reverses the order of array elements along the specified axis,preserving the shape of the array."
      ],
      "metadata": {
        "id": "7JjMFkbmQWBz"
      }
    },
    {
      "cell_type": "code",
      "source": [
        "# Example of flip  => reverse the elements of an array\n",
        "\n",
        "import numpy as np\n",
        "flip=np.array([14,26,74,43,57,31,82,40,94,67])\n",
        "print(flip)\n",
        "\n",
        "print(\"========== Flip function ============\")\n",
        "print(np.flip(flip))"
      ],
      "metadata": {
        "colab": {
          "base_uri": "https://localhost:8080/"
        },
        "id": "sLm2ZDpy_Rqg",
        "outputId": "57b23a08-35b2-4ed7-b7c7-5c3a035c90a0"
      },
      "execution_count": null,
      "outputs": [
        {
          "output_type": "stream",
          "name": "stdout",
          "text": [
            "[14 26 74 43 57 31 82 40 94 67]\n",
            "========== Flip function ============\n",
            "[67 94 40 82 31 57 43 74 26 14]\n"
          ]
        }
      ]
    },
    {
      "cell_type": "code",
      "source": [
        "# Example of flip in 2d array\n",
        "\n",
        "import numpy as np\n",
        "flip=np.random.randint(1,50,20).reshape(5,4)\n",
        "print(flip)\n",
        "\n",
        "print(\"========== Flip function ==========\")\n",
        "print(np.flip(flip))    # reverse can be done row and column wise by using axis!"
      ],
      "metadata": {
        "colab": {
          "base_uri": "https://localhost:8080/"
        },
        "id": "gmOfUV_TELRU",
        "outputId": "2c9c7084-95c5-413e-c4ad-3ccd48fab987"
      },
      "execution_count": null,
      "outputs": [
        {
          "output_type": "stream",
          "name": "stdout",
          "text": [
            "[[48 12 43 47]\n",
            " [ 5 31 29 34]\n",
            " [48 44 19 17]\n",
            " [ 9 11 12 16]\n",
            " [26 39 47 36]]\n",
            "========== Flip function ==========\n",
            "[[36 47 39 26]\n",
            " [16 12 11  9]\n",
            " [17 19 44 48]\n",
            " [34 29 31  5]\n",
            " [47 43 12 48]]\n"
          ]
        }
      ]
    },
    {
      "cell_type": "markdown",
      "source": [
        "### np.put\n",
        "The numpy.put() function replaces specific elements of an array with given values of p_array.Array indexed works on flattened."
      ],
      "metadata": {
        "id": "LVEKDJzBRUNR"
      }
    },
    {
      "cell_type": "code",
      "source": [
        "# Example of put function  => it creates permanent changes in an array\n",
        "\n",
        "import numpy as np\n",
        "put=np.array([34,61,42,74,26,82,13,93])\n",
        "print(put)\n",
        "\n",
        "print(\"---------- Put function ----------\")\n",
        "print(np.put(put,[0,1],[100,200]))    # [0,1] is the index position and [100,200] is the changing elements\n",
        "print(put)\n"
      ],
      "metadata": {
        "colab": {
          "base_uri": "https://localhost:8080/"
        },
        "id": "M5Lqa4p1RRSA",
        "outputId": "20d21c44-7f0a-41e0-e5a2-f4a427959a05"
      },
      "execution_count": null,
      "outputs": [
        {
          "output_type": "stream",
          "name": "stdout",
          "text": [
            "[34 61 42 74 26 82 13 93]\n",
            "---------- Put function ----------\n",
            "None\n",
            "[100 200  42  74  26  82  13  93]\n"
          ]
        }
      ]
    },
    {
      "cell_type": "code",
      "source": [
        "# Example of put function in 2d array\n",
        "\n",
        "import numpy as np\n",
        "a=np.array([[1,2,3],[4,5,6],[7,8,9],[10,11,12]])\n",
        "print(a)\n",
        "\n",
        "print(\"---------- put function ----------\")\n",
        "np.put(a,[7,2,11],[800,300,1200])\n",
        "print(a)"
      ],
      "metadata": {
        "colab": {
          "base_uri": "https://localhost:8080/"
        },
        "id": "WzeeMSDnISgT",
        "outputId": "33405499-a217-4f6f-9aa9-4eeaddd397bd"
      },
      "execution_count": null,
      "outputs": [
        {
          "output_type": "stream",
          "name": "stdout",
          "text": [
            "[[ 1  2  3]\n",
            " [ 4  5  6]\n",
            " [ 7  8  9]\n",
            " [10 11 12]]\n",
            "---------- put function ----------\n",
            "[[   1    2  300]\n",
            " [   4    5    6]\n",
            " [   7  800    9]\n",
            " [  10   11 1200]]\n"
          ]
        }
      ]
    },
    {
      "cell_type": "markdown",
      "source": [
        "### np.delete\n",
        "The np.delete() function returns a new array with the deletion of sub-arrays along with the mentioned axis."
      ],
      "metadata": {
        "id": "AbehYwrzKCdQ"
      }
    },
    {
      "cell_type": "code",
      "source": [
        "# Example of delete function => delete the given index position values\n",
        "\n",
        "import numpy as np\n",
        "de=np.array([32,65,97,14,75,83,23])\n",
        "print(de)\n",
        "\n",
        "print(\"======= delete function =======\")\n",
        "print(np.delete(de,[0,1,2]))    # [0,1,2] is the index position\n"
      ],
      "metadata": {
        "colab": {
          "base_uri": "https://localhost:8080/"
        },
        "id": "SmF6k8MvJOjc",
        "outputId": "6674d98d-0070-4b1f-d5b1-e2c186916a95"
      },
      "execution_count": null,
      "outputs": [
        {
          "output_type": "stream",
          "name": "stdout",
          "text": [
            "[32 65 97 14 75 83 23]\n",
            "======= delete function =======\n",
            "[14 75 83 23]\n",
            "[32 65 97 14 75 83 23]\n"
          ]
        }
      ]
    },
    {
      "cell_type": "code",
      "source": [
        "# Example of delete function in 2d array\n",
        "\n",
        "import numpy as np\n",
        "Del=np.array([[10,20,30],[40,50,60],[70,80,90]])\n",
        "print(Del)\n",
        "\n",
        "print('------ delete function -------')\n",
        "print(np.delete(Del,[0,1,2]))    # delete the elements from the 2d array then convert into 1d array\n"
      ],
      "metadata": {
        "colab": {
          "base_uri": "https://localhost:8080/"
        },
        "id": "H9XuPxBpKh7Y",
        "outputId": "881eb8d6-9220-42bf-c4c3-b055f904a008"
      },
      "execution_count": null,
      "outputs": [
        {
          "output_type": "stream",
          "name": "stdout",
          "text": [
            "[[10 20 30]\n",
            " [40 50 60]\n",
            " [70 80 90]]\n",
            "------ delete function -------\n",
            "[40 50 60 70 80 90]\n"
          ]
        }
      ]
    },
    {
      "cell_type": "markdown",
      "source": [
        "### Set Functions\n",
        "* np.union1d\n",
        "* np.itersect1d\n",
        "* np.setdiff1d\n",
        "* np.setxor1d\n",
        "* np.in1d"
      ],
      "metadata": {
        "id": "H1prAVisKiH1"
      }
    },
    {
      "cell_type": "code",
      "source": [
        "# Example for union1d, intersect1d, setdiff1d, setxor1d and in1d\n",
        "\n",
        "import numpy as np\n",
        "demo_1=np.array([12,64,73,35,91,27,47])\n",
        "demo_2=np.array([33,16,47,93,25,64])\n",
        "print(demo_1)\n",
        "print(demo_2)\n",
        "\n",
        "# Union1d function\n",
        "print(\"========== Union1d function ==========\")\n",
        "print(np.union1d(demo_1,demo_2))    # return unique values only\n",
        "\n",
        "# Intersect1d function\n",
        "print(\"---------- Intersect1d function ----------\")\n",
        "print(np.intersect1d(demo_1,demo_2))   # return common values\n",
        "\n",
        "# Setdiff1d function\n",
        "print(\"========== Setdiff1d function ==========\")\n",
        "print(np.setdiff1d(demo_1,demo_2))   # return all those elements which are in demo_1 not in demo_2\n",
        "\n",
        "# Setxor1d function\n",
        "print(\"---------- Setxor1d function ----------\")\n",
        "print(np.setxor1d(demo_1,demo_2))   # return all elements except common values\n",
        "\n",
        "# In1d function\n",
        "print(\"========== In1d function ==========\")\n",
        "print(np.in1d(demo_1,27))   # searching values inside the given array\n"
      ],
      "metadata": {
        "colab": {
          "base_uri": "https://localhost:8080/"
        },
        "id": "ACuK_N5YKl2Q",
        "outputId": "0ebb54cb-e8a5-4ab4-b0aa-f84e2483c92e"
      },
      "execution_count": null,
      "outputs": [
        {
          "output_type": "stream",
          "name": "stdout",
          "text": [
            "[12 64 73 35 91 27 47]\n",
            "[33 16 47 93 25 64]\n",
            "========== Union1d function ==========\n",
            "[12 16 25 27 33 35 47 64 73 91 93]\n",
            "---------- Intersect1d function ----------\n",
            "[47 64]\n",
            "========== Setdiff1d function ==========\n",
            "[12 27 35 73 91]\n",
            "---------- Setxor1d function ----------\n",
            "[12 16 25 27 33 35 73 91 93]\n",
            "========== In1d function ==========\n",
            "[False False False False False  True False]\n"
          ]
        }
      ]
    },
    {
      "cell_type": "markdown",
      "source": [
        "### np.clip\n",
        "The np.clip() function is used to clip(limit) the values in an array."
      ],
      "metadata": {
        "id": "RjlDpw_238-s"
      }
    },
    {
      "cell_type": "code",
      "source": [
        "# Example for clip function\n",
        "\n",
        "import numpy as np\n",
        "a=np.random.randint(1,50,30)\n",
        "print(a)\n",
        "\n",
        "print(\"---------- Clip function ----------\")\n",
        "print(np.clip(a,a_min=7,a_max=31))   # reverse all the values b/w 7 to 31\n"
      ],
      "metadata": {
        "colab": {
          "base_uri": "https://localhost:8080/"
        },
        "id": "3Ramr7_K4PY9",
        "outputId": "14edca7c-ae94-4ba9-b104-c498bc242e74"
      },
      "execution_count": null,
      "outputs": [
        {
          "output_type": "stream",
          "name": "stdout",
          "text": [
            "[40 18 45 29 10  2 12 36 28 40 35 48  3  9 24 16 12 47 12 31 40 36 39 49\n",
            " 13 11 16 49 33 48]\n",
            "---------- Clip function ----------\n",
            "[31 18 31 29 10  7 12 31 28 31 31 31  7  9 24 16 12 31 12 31 31 31 31 31\n",
            " 13 11 16 31 31 31]\n"
          ]
        }
      ]
    },
    {
      "cell_type": "markdown",
      "source": [
        "### np.swapaxes"
      ],
      "metadata": {
        "id": "Rqlv4pnV4QL1"
      }
    },
    {
      "cell_type": "code",
      "source": [],
      "metadata": {
        "id": "MbS0M-rL4VPB"
      },
      "execution_count": null,
      "outputs": []
    },
    {
      "cell_type": "markdown",
      "source": [
        "### np.uniform"
      ],
      "metadata": {
        "id": "ctq0izqK4V6I"
      }
    },
    {
      "cell_type": "code",
      "source": [],
      "metadata": {
        "id": "ozmftaMO4Yh5"
      },
      "execution_count": null,
      "outputs": []
    },
    {
      "cell_type": "markdown",
      "source": [
        "### np.count_nonzero"
      ],
      "metadata": {
        "id": "D3uxnolB4ZIR"
      }
    },
    {
      "cell_type": "code",
      "source": [],
      "metadata": {
        "id": "LVegoA9V4cpl"
      },
      "execution_count": null,
      "outputs": []
    },
    {
      "cell_type": "markdown",
      "source": [
        "### np.title"
      ],
      "metadata": {
        "id": "KTbxgxFR4dTn"
      }
    },
    {
      "cell_type": "code",
      "source": [],
      "metadata": {
        "id": "k7VrSu5V4flw"
      },
      "execution_count": null,
      "outputs": []
    },
    {
      "cell_type": "markdown",
      "source": [
        "### np.repeat"
      ],
      "metadata": {
        "id": "UIpwpLuQ4gox"
      }
    },
    {
      "cell_type": "code",
      "source": [],
      "metadata": {
        "id": "fkmcd0c14l0G"
      },
      "execution_count": null,
      "outputs": []
    }
  ]
}